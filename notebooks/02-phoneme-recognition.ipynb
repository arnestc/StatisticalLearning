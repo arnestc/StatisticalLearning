{
 "cells": [
  {
   "cell_type": "code",
   "execution_count": 2,
   "metadata": {},
   "outputs": [],
   "source": [
    "import matplotlib.pyplot as plt\n",
    "import numpy as np\n",
    "import os\n",
    "import pandas as pd\n",
    "import scipy.io\n",
    "import seaborn as sns\n",
    "from sklearn.model_selection import train_test_split\n",
    "from sklearn.metrics import accuracy_score\n",
    "from sklearn.neighbors import KNeighborsClassifier\n",
    "from tqdm import tqdm\n",
    "\n",
    "# Plots\n",
    "sns.set_context(\n",
    "    'talk', rc = {\n",
    "        'font.size': 12.0,\n",
    "        'axes.labelsize': 10.0,\n",
    "        'axes.titlesize': 10.0,\n",
    "        'xtick.labelsize': 10.0,\n",
    "        'ytick.labelsize': 10.0,\n",
    "        'legend.fontsize': 10.0,\n",
    "        'legend.title_fontsize': 12.0,\n",
    "        'patch.linewidth': 2.0\n",
    "        }\n",
    "    ) # 'paper'\n",
    "\n",
    "data_sets = ['Train', 'Test']"
   ]
  },
  {
   "cell_type": "code",
   "execution_count": 3,
   "metadata": {},
   "outputs": [
    {
     "data": {
      "text/plain": [
       "'/'"
      ]
     },
     "execution_count": 3,
     "metadata": {},
     "output_type": "execute_result"
    }
   ],
   "source": [
    "# Check current folder\n",
    "os.getcwd()"
   ]
  },
  {
   "cell_type": "code",
   "execution_count": 4,
   "metadata": {},
   "outputs": [
    {
     "name": "stdout",
     "output_type": "stream",
     "text": [
      "Data ✓\n",
      "Data Keys: dict_keys(['__header__', '__version__', '__globals__', 'dataset'])\n"
     ]
    }
   ],
   "source": [
    "data_path = '/Users/ernestocolacrai/Documents/GitHub/StatisticalLearning/data/speech_dataset.mat'\n",
    "\n",
    "try:\n",
    "    data = scipy.io.loadmat(data_path)\n",
    "    print(f\"Data ✓\")\n",
    "    print(f\"Data Keys: {data.keys()}\")\n",
    "except:\n",
    "    print(f\"Not found data! ({data_path})\")"
   ]
  },
  {
   "cell_type": "code",
   "execution_count": 13,
   "metadata": {},
   "outputs": [
    {
     "data": {
      "text/html": [
       "<div>\n",
       "<style scoped>\n",
       "    .dataframe tbody tr th:only-of-type {\n",
       "        vertical-align: middle;\n",
       "    }\n",
       "\n",
       "    .dataframe tbody tr th {\n",
       "        vertical-align: top;\n",
       "    }\n",
       "\n",
       "    .dataframe thead th {\n",
       "        text-align: right;\n",
       "    }\n",
       "</style>\n",
       "<table border=\"1\" class=\"dataframe\">\n",
       "  <thead>\n",
       "    <tr style=\"text-align: right;\">\n",
       "      <th></th>\n",
       "      <th>f1</th>\n",
       "      <th>f2</th>\n",
       "      <th>f3</th>\n",
       "      <th>f4</th>\n",
       "      <th>f5</th>\n",
       "      <th>label</th>\n",
       "    </tr>\n",
       "  </thead>\n",
       "  <tbody>\n",
       "    <tr>\n",
       "      <th>0</th>\n",
       "      <td>0.489927</td>\n",
       "      <td>-0.451528</td>\n",
       "      <td>-1.047990</td>\n",
       "      <td>-0.598693</td>\n",
       "      <td>-0.020418</td>\n",
       "      <td>1.0</td>\n",
       "    </tr>\n",
       "    <tr>\n",
       "      <th>1</th>\n",
       "      <td>-0.641265</td>\n",
       "      <td>0.109245</td>\n",
       "      <td>0.292130</td>\n",
       "      <td>-0.916804</td>\n",
       "      <td>0.240223</td>\n",
       "      <td>1.0</td>\n",
       "    </tr>\n",
       "    <tr>\n",
       "      <th>2</th>\n",
       "      <td>0.870593</td>\n",
       "      <td>-0.459862</td>\n",
       "      <td>0.578159</td>\n",
       "      <td>0.806634</td>\n",
       "      <td>0.835248</td>\n",
       "      <td>1.0</td>\n",
       "    </tr>\n",
       "    <tr>\n",
       "      <th>3</th>\n",
       "      <td>-0.628439</td>\n",
       "      <td>-0.316284</td>\n",
       "      <td>1.934295</td>\n",
       "      <td>-1.427099</td>\n",
       "      <td>-0.136583</td>\n",
       "      <td>1.0</td>\n",
       "    </tr>\n",
       "    <tr>\n",
       "      <th>4</th>\n",
       "      <td>-0.596399</td>\n",
       "      <td>0.015938</td>\n",
       "      <td>2.043206</td>\n",
       "      <td>-1.688448</td>\n",
       "      <td>-0.948127</td>\n",
       "      <td>1.0</td>\n",
       "    </tr>\n",
       "  </tbody>\n",
       "</table>\n",
       "</div>"
      ],
      "text/plain": [
       "         f1        f2        f3        f4        f5  label\n",
       "0  0.489927 -0.451528 -1.047990 -0.598693 -0.020418    1.0\n",
       "1 -0.641265  0.109245  0.292130 -0.916804  0.240223    1.0\n",
       "2  0.870593 -0.459862  0.578159  0.806634  0.835248    1.0\n",
       "3 -0.628439 -0.316284  1.934295 -1.427099 -0.136583    1.0\n",
       "4 -0.596399  0.015938  2.043206 -1.688448 -0.948127    1.0"
      ]
     },
     "execution_count": 13,
     "metadata": {},
     "output_type": "execute_result"
    }
   ],
   "source": [
    "data_df = pd.DataFrame({\n",
    "    'f1': data['dataset'][:,0],\n",
    "    'f2': data['dataset'][:,1],\n",
    "    'f3': data['dataset'][:,2],\n",
    "    'f4': data['dataset'][:,3],\n",
    "    'f5': data['dataset'][:,4],\n",
    "    'label': data['dataset'][:,5]\n",
    "    })\n",
    "\n",
    "data_df.head()"
   ]
  },
  {
   "cell_type": "code",
   "execution_count": 15,
   "metadata": {},
   "outputs": [
    {
     "data": {
      "text/plain": [
       "f1       float64\n",
       "f2       float64\n",
       "f3       float64\n",
       "f4       float64\n",
       "f5       float64\n",
       "label    float64\n",
       "dtype: object"
      ]
     },
     "execution_count": 15,
     "metadata": {},
     "output_type": "execute_result"
    }
   ],
   "source": [
    "data_df.dtypes"
   ]
  },
  {
   "cell_type": "code",
   "execution_count": 19,
   "metadata": {},
   "outputs": [],
   "source": [
    "data_df.label = data_df.label.astype('int8')"
   ]
  },
  {
   "cell_type": "code",
   "execution_count": 21,
   "metadata": {},
   "outputs": [
    {
     "data": {
      "text/plain": [
       "f1       float64\n",
       "f2       float64\n",
       "f3       float64\n",
       "f4       float64\n",
       "f5       float64\n",
       "label       int8\n",
       "dtype: object"
      ]
     },
     "execution_count": 21,
     "metadata": {},
     "output_type": "execute_result"
    }
   ],
   "source": [
    "data_df.dtypes"
   ]
  },
  {
   "cell_type": "code",
   "execution_count": 24,
   "metadata": {},
   "outputs": [
    {
     "data": {
      "text/plain": [
       "f1       0\n",
       "f2       0\n",
       "f3       0\n",
       "f4       0\n",
       "f5       0\n",
       "label    0\n",
       "dtype: int64"
      ]
     },
     "execution_count": 24,
     "metadata": {},
     "output_type": "execute_result"
    }
   ],
   "source": [
    "data_df.isna().sum(axis=0)"
   ]
  },
  {
   "cell_type": "code",
   "execution_count": 35,
   "metadata": {},
   "outputs": [
    {
     "data": {
      "text/plain": [
       "5404"
      ]
     },
     "execution_count": 35,
     "metadata": {},
     "output_type": "execute_result"
    }
   ],
   "source": [
    "# np.sqrt(np.sum((data_df.loc[0][:-1] - data_df.loc[1][:-1]) ** 2))\n",
    "len(data_df)"
   ]
  },
  {
   "cell_type": "code",
   "execution_count": 53,
   "metadata": {},
   "outputs": [
    {
     "data": {
      "text/plain": [
       "5395"
      ]
     },
     "execution_count": 53,
     "metadata": {},
     "output_type": "execute_result"
    }
   ],
   "source": [
    "data_df[data_df.duplicated(subset=['f1', 'f2', 'f3', 'f4', 'f5', 'label'], keep='first')]\n",
    "\n",
    "data_df = data_df.drop_duplicates()\n",
    "len(data_df)"
   ]
  },
  {
   "cell_type": "code",
   "execution_count": 54,
   "metadata": {},
   "outputs": [
    {
     "data": {
      "text/plain": [
       "1    70.769231\n",
       "2    29.230769\n",
       "Name: label, dtype: float64"
      ]
     },
     "execution_count": 54,
     "metadata": {},
     "output_type": "execute_result"
    }
   ],
   "source": [
    "(data_df.label.value_counts() / len(data_df)) * 100"
   ]
  },
  {
   "cell_type": "code",
   "execution_count": 92,
   "metadata": {},
   "outputs": [],
   "source": [
    "np.random.seed(1)\n",
    "train_set = pd.concat([\n",
    "    data_df[data_df.label == 1].sample(frac=0.71),\n",
    "    data_df[data_df.label == 2].sample(frac=0.29)\n",
    "    ])"
   ]
  },
  {
   "cell_type": "code",
   "execution_count": 93,
   "metadata": {},
   "outputs": [
    {
     "data": {
      "text/plain": [
       "2    1120\n",
       "1    1107\n",
       "Name: label, dtype: int64"
      ]
     },
     "execution_count": 93,
     "metadata": {},
     "output_type": "execute_result"
    }
   ],
   "source": [
    "data_df.loc[list(set(data_df.index).difference(train_set.index))].label.value_counts()"
   ]
  },
  {
   "cell_type": "code",
   "execution_count": 95,
   "metadata": {},
   "outputs": [
    {
     "data": {
      "text/plain": [
       "1    85.574495\n",
       "2    14.425505\n",
       "Name: label, dtype: float64"
      ]
     },
     "execution_count": 95,
     "metadata": {},
     "output_type": "execute_result"
    }
   ],
   "source": [
    "100 * train_set.label.value_counts() / len(train_set)"
   ]
  },
  {
   "cell_type": "code",
   "execution_count": null,
   "metadata": {},
   "outputs": [],
   "source": []
  }
 ],
 "metadata": {
  "kernelspec": {
   "display_name": "DataScience",
   "language": "python",
   "name": "python3"
  },
  "language_info": {
   "codemirror_mode": {
    "name": "ipython",
    "version": 3
   },
   "file_extension": ".py",
   "mimetype": "text/x-python",
   "name": "python",
   "nbconvert_exporter": "python",
   "pygments_lexer": "ipython3",
   "version": "3.11.4"
  }
 },
 "nbformat": 4,
 "nbformat_minor": 2
}
