{
 "cells": [
  {
   "cell_type": "markdown",
   "metadata": {},
   "source": [
    "# Computer Lab 1: k-NN classifier\n",
    "\n",
    "## Exercise 3 – User localization from RSSI\n",
    "\n",
    "Consider the following scenario, in which we wish to localize a user employing a non-GPS system  (e.g., in indoor localization). The user holds a transmission device (e.g., a smartphone or other sensor with transmission capabilities). Localization is based on measurements of the Received Signal Strength Indicator (RSSI) from D sensors (base stations) placed in the area in which the localization service is provided. The area is divided into $N_C$ square cells, and localization amounts to identifying the cell in which the user is located.\n",
    "\n",
    "In a **training stage**, the transmission device is placed in the center of each cell and broadcasts a data packet, and RSSI is measured by each sensor. This yields one measurement, corresponding to a vector of length $D$. The process is repeated $M$ times for each cell, and for all $N_C$ cells. The training stage provides a 3-dimensional array of size $N_C \\times D \\times M$.\n",
    "\n",
    "In a **test stage**, the user is located in an unknown cell. The transmission device broadcasts a data packet, and each sensor measures the RSSI and communicates it to a fusion center. The fusion center treats the received RSSI values as a test vector of length $D$. It applies a k-NN classifier, comparing the test vector with all $M \\times N_C$ training vectors available in the training set. For each test vector, the k-NN classifier outputs the probability that each cell contains the user.\n",
    "\n",
    "**Available data**: you are provided with a file (`localization.mat` in `/data/` folder) containing two variables, called traindata and testdata. These variables have the same size, and are 3-dimensional arrays of size $D=7$, $M=5$, and $N_C = 24$.\n",
    "\n",
    "The training data can be seen as labelled data where each cell is a class, and you are given M data vectors for each cell. Regarding the test data, a test vector consists of a single measurement; so each measurement has to be used individually and you can perform up to M tests for each cell.\n",
    "The data correspond to real acquisition experiments performed outdoors nearby Politecnico di Torino, using an STM32L microcontroller with 915 MHz 802.15.4 transceiver.\n",
    "\n",
    "**Task**: your task is to implement a k-NN classifier in Matlab for the classification task described above, and evaluate its performance.\n",
    "\n",
    "**Performance evaluation**: The performance is defined in terms of accuracy in the localization task, and it has to be averaged over all cells. Average accuracy is defined as the posterior probability associated to the cell that the user is actually located in."
   ]
  },
  {
   "cell_type": "code",
   "execution_count": 1,
   "metadata": {},
   "outputs": [],
   "source": [
    "import matplotlib.pyplot as plt\n",
    "import numpy as np\n",
    "import os\n",
    "import pandas as pd\n",
    "import scipy.io\n",
    "import seaborn as sns\n",
    "from sklearn.model_selection import train_test_split\n",
    "from sklearn.metrics import accuracy_score\n",
    "from sklearn.neighbors import KNeighborsClassifier\n",
    "from tqdm import tqdm\n",
    "\n",
    "# Plots setting.\n",
    "sns.set_context(\n",
    "    'talk', rc = {\n",
    "        'font.size': 12.0,\n",
    "        'axes.labelsize': 10.0,\n",
    "        'axes.titlesize': 10.0,\n",
    "        'xtick.labelsize': 10.0,\n",
    "        'ytick.labelsize': 10.0,\n",
    "        'legend.fontsize': 10.0,\n",
    "        'legend.title_fontsize': 12.0,\n",
    "        'patch.linewidth': 2.0\n",
    "        }\n",
    "    )\n",
    "\n",
    "data_sets = ['Train', 'Test']"
   ]
  },
  {
   "cell_type": "code",
   "execution_count": 2,
   "metadata": {},
   "outputs": [
    {
     "data": {
      "text/plain": [
       "'/'"
      ]
     },
     "execution_count": 2,
     "metadata": {},
     "output_type": "execute_result"
    }
   ],
   "source": [
    "# Check current folder.\n",
    "os.getcwd()"
   ]
  },
  {
   "cell_type": "code",
   "execution_count": 3,
   "metadata": {},
   "outputs": [
    {
     "name": "stdout",
     "output_type": "stream",
     "text": [
      "Data ✓\n",
      " Data Keys: dict_keys(['__header__', '__version__', '__globals__', 'cell_coordinates', 'testdata', 'traindata'])\n"
     ]
    }
   ],
   "source": [
    "data_path = \"/Users/ernestocolacrai/Documents/GitHub/StatisticalLearning/data/\"\n",
    "\n",
    "try:\n",
    "    # Attempt to load the MATLAB data file.\n",
    "    data = scipy.io.loadmat(data_path + f\"localization.mat\")\n",
    "\n",
    "    print(\n",
    "        f\"Data ✓\\n\",\n",
    "        f\"Data Keys: {data.keys()}\"\n",
    "        )\n",
    "except:\n",
    "    print(f\"Not found data! ({data_path})\")"
   ]
  },
  {
   "cell_type": "code",
   "execution_count": 4,
   "metadata": {},
   "outputs": [],
   "source": [
    "def rearrange(dataset, rows, columns, depth):\n",
    "    arranged = np.zeros([columns * depth, rows + 1])\n",
    "    count = 0\n",
    "    for j in range(depth):\n",
    "        for i in range(columns):\n",
    "            arranged[i + count, :-1] = dataset[:, i, j].T\n",
    "            arranged[i + count, -1] = j + 1\n",
    "        \n",
    "        count = count + columns\n",
    "    return arranged"
   ]
  },
  {
   "cell_type": "code",
   "execution_count": 5,
   "metadata": {},
   "outputs": [
    {
     "data": {
      "text/plain": [
       "(120, 120)"
      ]
     },
     "execution_count": 5,
     "metadata": {},
     "output_type": "execute_result"
    }
   ],
   "source": [
    "D = 7 # Features number (ROWS)\n",
    "M = 5 # Measures number for each cell (class) (COLUMNS)\n",
    "Nc = 24 # Classes number (cells number) (DEPTH)\n",
    "\n",
    "len(rearrange(data['traindata'], D, M, Nc)), len(rearrange(data['testdata'], D, M, Nc))"
   ]
  },
  {
   "cell_type": "code",
   "execution_count": 7,
   "metadata": {},
   "outputs": [
    {
     "data": {
      "text/plain": [
       "array([[-32., -49., -46., -71., -54., -63., -50.,   1.],\n",
       "       [-32., -49., -46., -72., -54., -64., -49.,   1.],\n",
       "       [-32., -48., -46., -71., -54., -63., -50.,   1.],\n",
       "       [-32., -48., -47., -71., -54., -64., -50.,   1.],\n",
       "       [-32., -48., -46., -71., -54., -64., -49.,   1.],\n",
       "       [-31., -49., -40., -56., -54., -59., -52.,   2.],\n",
       "       [-31., -49., -40., -56., -54., -59., -52.,   2.],\n",
       "       [-31., -49., -41., -55., -55., -59., -51.,   2.],\n",
       "       [-30., -49., -40., -55., -55., -59., -51.,   2.],\n",
       "       [-30., -49., -40., -55., -55., -59., -51.,   2.],\n",
       "       [-27., -35., -40., -54., -50., -68., -50.,   3.],\n",
       "       [-27., -35., -41., -54., -50., -70., -50.,   3.],\n",
       "       [-27., -35., -40., -53., -50., -71., -50.,   3.],\n",
       "       [-27., -35., -40., -54., -51., -68., -50.,   3.],\n",
       "       [-28., -35., -41., -53., -51., -68., -50.,   3.],\n",
       "       [-28., -44., -45., -54., -61., -66., -45.,   4.],\n",
       "       [-28., -44., -45., -53., -62., -66., -45.,   4.],\n",
       "       [-27., -48., -47., -50., -59., -62., -48.,   4.],\n",
       "       [-28., -47., -45., -56., -63., -65., -47.,   4.],\n",
       "       [-28., -47., -45., -55., -63., -65., -46.,   4.],\n",
       "       [-44., -34., -39., -53., -55., -68., -53.,   5.],\n",
       "       [-46., -32., -40., -54., -60., -68., -56.,   5.],\n",
       "       [-44., -33., -40., -54., -60., -71., -55.,   5.],\n",
       "       [-45., -33., -40., -55., -65., -68., -57.,   5.],\n",
       "       [-44., -34., -40., -57., -71., -63., -54.,   5.],\n",
       "       [-49., -33., -36., -54., -63., -57., -42.,   6.],\n",
       "       [-49., -33., -35., -54., -62., -57., -42.,   6.],\n",
       "       [-49., -33., -35., -53., -62., -57., -42.,   6.],\n",
       "       [-49., -34., -36., -53., -63., -57., -42.,   6.],\n",
       "       [-48., -34., -36., -52., -62., -56., -42.,   6.],\n",
       "       [-44., -34., -37., -50., -55., -72., -49.,   7.],\n",
       "       [-44., -35., -36., -50., -55., -68., -49.,   7.],\n",
       "       [-44., -34., -36., -50., -55., -68., -49.,   7.],\n",
       "       [-45., -35., -36., -49., -55., -80., -49.,   7.],\n",
       "       [-45., -35., -37., -49., -55., -67., -47.,   7.],\n",
       "       [-44., -36., -32., -48., -62., -58., -33.,   8.],\n",
       "       [-44., -37., -32., -48., -76., -57., -34.,   8.],\n",
       "       [-44., -37., -33., -48., -74., -57., -34.,   8.],\n",
       "       [-44., -37., -32., -48., -67., -58., -34.,   8.],\n",
       "       [-44., -37., -32., -48., -64., -57., -34.,   8.],\n",
       "       [-52., -39., -44., -53., -49., -55., -39.,   9.],\n",
       "       [-52., -39., -44., -53., -49., -56., -39.,   9.],\n",
       "       [-52., -39., -44., -53., -49., -56., -39.,   9.],\n",
       "       [-51., -39., -44., -53., -49., -56., -39.,   9.],\n",
       "       [-52., -39., -44., -53., -49., -56., -39.,   9.],\n",
       "       [-52., -33., -36., -52., -47., -51., -34.,  10.],\n",
       "       [-52., -33., -36., -52., -47., -51., -35.,  10.],\n",
       "       [-52., -33., -36., -51., -47., -51., -35.,  10.],\n",
       "       [-52., -33., -36., -51., -47., -51., -34.,  10.],\n",
       "       [-52., -33., -36., -51., -47., -51., -35.,  10.],\n",
       "       [-60., -39., -36., -51., -50., -55., -36.,  11.],\n",
       "       [-60., -39., -36., -51., -50., -55., -36.,  11.],\n",
       "       [-60., -39., -36., -52., -50., -55., -36.,  11.],\n",
       "       [-60., -39., -36., -51., -49., -55., -36.,  11.],\n",
       "       [-60., -39., -36., -51., -49., -55., -36.,  11.],\n",
       "       [-53., -54., -35., -45., -55., -66., -31.,  12.],\n",
       "       [-53., -54., -35., -44., -54., -63., -31.,  12.],\n",
       "       [-53., -55., -35., -44., -54., -62., -31.,  12.],\n",
       "       [-53., -57., -35., -44., -55., -63., -32.,  12.],\n",
       "       [-53., -55., -36., -44., -53., -60., -31.,  12.],\n",
       "       [-62., -66., -47., -38., -40., -41., -36.,  13.],\n",
       "       [-63., -66., -47., -38., -39., -41., -36.,  13.],\n",
       "       [-62., -67., -47., -38., -40., -42., -36.,  13.],\n",
       "       [-63., -67., -47., -37., -39., -42., -36.,  13.],\n",
       "       [-63., -67., -47., -34., -39., -42., -36.,  13.],\n",
       "       [-61., -47., -45., -35., -35., -49., -44.,  14.],\n",
       "       [-61., -46., -45., -34., -35., -49., -41.,  14.],\n",
       "       [-61., -46., -44., -34., -35., -50., -42.,  14.],\n",
       "       [-61., -47., -44., -34., -35., -50., -42.,  14.],\n",
       "       [-60., -46., -44., -34., -35., -49., -44.,  14.],\n",
       "       [-61., -50., -45., -39., -38., -55., -40.,  15.],\n",
       "       [-56., -54., -46., -35., -48., -66., -41.,  15.],\n",
       "       [-56., -51., -46., -35., -47., -67., -39.,  15.],\n",
       "       [-56., -51., -46., -35., -46., -66., -39.,  15.],\n",
       "       [-56., -51., -46., -35., -45., -64., -39.,  15.],\n",
       "       [-56., -53., -68., -39., -37., -51., -35.,  16.],\n",
       "       [-57., -53., -67., -40., -36., -50., -35.,  16.],\n",
       "       [-57., -52., -65., -40., -38., -47., -35.,  16.],\n",
       "       [-56., -51., -62., -39., -35., -47., -36.,  16.],\n",
       "       [-57., -52., -65., -39., -37., -45., -35.,  16.],\n",
       "       [-68., -58., -63., -47., -44., -44., -48.,  17.],\n",
       "       [-67., -58., -63., -47., -44., -44., -48.,  17.],\n",
       "       [-68., -58., -63., -46., -44., -44., -49.,  17.],\n",
       "       [-68., -57., -63., -46., -44., -44., -49.,  17.],\n",
       "       [-68., -57., -63., -46., -43., -44., -48.,  17.],\n",
       "       [-71., -57., -57., -36., -36., -50., -52.,  18.],\n",
       "       [-71., -58., -57., -36., -36., -50., -51.,  18.],\n",
       "       [-68., -57., -58., -36., -36., -49., -52.,  18.],\n",
       "       [-68., -57., -57., -36., -36., -50., -51.,  18.],\n",
       "       [-68., -58., -57., -36., -36., -51., -51.,  18.],\n",
       "       [-63., -55., -55., -38., -31., -42., -55.,  19.],\n",
       "       [-63., -54., -55., -37., -31., -44., -54.,  19.],\n",
       "       [-63., -55., -56., -37., -31., -45., -55.,  19.],\n",
       "       [-63., -54., -55., -37., -31., -45., -54.,  19.],\n",
       "       [-63., -54., -56., -36., -32., -45., -56.,  19.],\n",
       "       [-62., -54., -63., -38., -54., -42., -57.,  20.],\n",
       "       [-63., -56., -65., -39., -56., -38., -58.,  20.],\n",
       "       [-62., -56., -65., -38., -58., -39., -56.,  20.],\n",
       "       [-64., -56., -65., -38., -58., -37., -58.,  20.],\n",
       "       [-64., -56., -66., -38., -57., -38., -59.,  20.],\n",
       "       [-73., -63., -57., -55., -45., -34., -55.,  21.],\n",
       "       [-74., -63., -57., -56., -45., -35., -55.,  21.],\n",
       "       [-74., -63., -57., -56., -45., -35., -55.,  21.],\n",
       "       [-74., -64., -57., -56., -45., -34., -55.,  21.],\n",
       "       [-74., -65., -58., -56., -45., -34., -55.,  21.],\n",
       "       [-63., -62., -73., -47., -46., -29., -52.,  22.],\n",
       "       [-63., -63., -73., -48., -47., -30., -53.,  22.],\n",
       "       [-63., -63., -69., -47., -47., -30., -53.,  22.],\n",
       "       [-63., -63., -72., -48., -47., -30., -53.,  22.],\n",
       "       [-63., -63., -66., -47., -47., -30., -53.,  22.],\n",
       "       [-69., -68., -55., -46., -51., -26., -56.,  23.],\n",
       "       [-68., -69., -55., -46., -50., -26., -56.,  23.],\n",
       "       [-68., -67., -56., -46., -51., -26., -57.,  23.],\n",
       "       [-68., -67., -56., -45., -50., -26., -56.,  23.],\n",
       "       [-68., -67., -55., -46., -51., -26., -56.,  23.],\n",
       "       [-79., -54., -62., -41., -51., -26., -53.,  24.],\n",
       "       [-77., -54., -61., -41., -51., -26., -54.,  24.],\n",
       "       [-77., -54., -62., -41., -51., -26., -53.,  24.],\n",
       "       [-75., -54., -61., -41., -51., -26., -51.,  24.],\n",
       "       [-74., -54., -62., -41., -51., -26., -53.,  24.]])"
      ]
     },
     "execution_count": 7,
     "metadata": {},
     "output_type": "execute_result"
    }
   ],
   "source": [
    "rearrange(data['traindata'], D, M, Nc)"
   ]
  },
  {
   "cell_type": "code",
   "execution_count": 12,
   "metadata": {},
   "outputs": [
    {
     "data": {
      "text/plain": [
       "(7, 5, 24)"
      ]
     },
     "execution_count": 12,
     "metadata": {},
     "output_type": "execute_result"
    }
   ],
   "source": [
    "data['traindata'].shape"
   ]
  },
  {
   "cell_type": "code",
   "execution_count": null,
   "metadata": {},
   "outputs": [],
   "source": []
  }
 ],
 "metadata": {
  "kernelspec": {
   "display_name": "DataScience",
   "language": "python",
   "name": "python3"
  },
  "language_info": {
   "codemirror_mode": {
    "name": "ipython",
    "version": 3
   },
   "file_extension": ".py",
   "mimetype": "text/x-python",
   "name": "python",
   "nbconvert_exporter": "python",
   "pygments_lexer": "ipython3",
   "version": "3.11.4"
  }
 },
 "nbformat": 4,
 "nbformat_minor": 2
}
