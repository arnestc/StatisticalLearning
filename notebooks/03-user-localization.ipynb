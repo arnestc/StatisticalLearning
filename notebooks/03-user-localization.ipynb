{
 "cells": [
  {
   "cell_type": "markdown",
   "metadata": {},
   "source": [
    "# Computer Lab 1: k-NN classifier\n",
    "\n",
    "## Exercise 3 – User localization from RSSI\n",
    "\n",
    "Consider the following scenario, in which we wish to localize a user employing a non-GPS system  (e.g., in indoor localization). The user holds a transmission device (e.g., a smartphone or other sensor with transmission capabilities). Localization is based on measurements of the Received Signal Strength Indicator (RSSI) from D sensors (base stations) placed in the area in which the localization service is provided. The area is divided into $N_C$ square cells, and localization amounts to identifying the cell in which the user is located.\n",
    "\n",
    "In a **training stage**, the transmission device is placed in the center of each cell and broadcasts a data packet, and RSSI is measured by each sensor. This yields one measurement, corresponding to a vector of length $D$. The process is repeated $M$ times for each cell, and for all $N_C$ cells. The training stage provides a 3-dimensional array of size $N_C \\times D \\times M$.\n",
    "\n",
    "In a **test stage**, the user is located in an unknown cell. The transmission device broadcasts a data packet, and each sensor measures the RSSI and communicates it to a fusion center. The fusion center treats the received RSSI values as a test vector of length $D$. It applies a k-NN classifier, comparing the test vector with all $M \\times N_C$ training vectors available in the training set. For each test vector, the k-NN classifier outputs the probability that each cell contains the user.\n",
    "\n",
    "**Available data**: you are provided with a file (`localization.mat` in `/data/` folder) containing two variables, called traindata and testdata. These variables have the same size, and are 3-dimensional arrays of size $D=7$, $M=5$, and $N_C = 24$.\n",
    "\n",
    "The training data can be seen as labelled data where each cell is a class, and you are given M data vectors for each cell. Regarding the test data, a test vector consists of a single measurement; so each measurement has to be used individually and you can perform up to M tests for each cell.\n",
    "The data correspond to real acquisition experiments performed outdoors nearby Politecnico di Torino, using an STM32L microcontroller with 915 MHz 802.15.4 transceiver.\n",
    "\n",
    "**Task**: your task is to implement a k-NN classifier in Matlab for the classification task described above, and evaluate its performance.\n",
    "\n",
    "**Performance evaluation**: The performance is defined in terms of accuracy in the localization task, and it has to be averaged over all cells. Average accuracy is defined as the posterior probability associated to the cell that the user is actually located in."
   ]
  },
  {
   "cell_type": "code",
   "execution_count": 80,
   "metadata": {},
   "outputs": [],
   "source": [
    "import matplotlib.pyplot as plt\n",
    "import numpy as np\n",
    "import os\n",
    "import pandas as pd\n",
    "import random\n",
    "import scipy.io\n",
    "import seaborn as sns\n",
    "from sklearn.model_selection import train_test_split\n",
    "from sklearn.metrics import accuracy_score\n",
    "from sklearn.neighbors import KNeighborsClassifier\n",
    "from tqdm import tqdm\n",
    "\n",
    "# Plots setting.\n",
    "sns.set_context(\n",
    "    'talk', rc = {\n",
    "        'font.size': 12.0,\n",
    "        'axes.labelsize': 10.0,\n",
    "        'axes.titlesize': 10.0,\n",
    "        'xtick.labelsize': 10.0,\n",
    "        'ytick.labelsize': 10.0,\n",
    "        'legend.fontsize': 10.0,\n",
    "        'legend.title_fontsize': 12.0,\n",
    "        'patch.linewidth': 2.0\n",
    "        }\n",
    "    )\n",
    "\n",
    "data_sets = ['Train', 'Test']"
   ]
  },
  {
   "cell_type": "code",
   "execution_count": 2,
   "metadata": {},
   "outputs": [
    {
     "data": {
      "text/plain": [
       "'/'"
      ]
     },
     "execution_count": 2,
     "metadata": {},
     "output_type": "execute_result"
    }
   ],
   "source": [
    "# Check current folder.\n",
    "os.getcwd()"
   ]
  },
  {
   "cell_type": "code",
   "execution_count": 114,
   "metadata": {},
   "outputs": [
    {
     "name": "stdout",
     "output_type": "stream",
     "text": [
      "Data ✓\n",
      " Data Keys: dict_keys(['__header__', '__version__', '__globals__', 'cell_coordinates', 'testdata', 'traindata'])\n"
     ]
    }
   ],
   "source": [
    "data_path = \"/Users/ernestocolacrai/Documents/GitHub/StatisticalLearning/data/\"\n",
    "\n",
    "try:\n",
    "    # Attempt to load the MATLAB data file.\n",
    "    data = scipy.io.loadmat(data_path + f\"localization.mat\")\n",
    "\n",
    "    print(\n",
    "        f\"Data ✓\\n\",\n",
    "        f\"Data Keys: {data.keys()}\"\n",
    "        )\n",
    "except:\n",
    "    print(f\"Not found data! ({data_path})\")"
   ]
  },
  {
   "cell_type": "code",
   "execution_count": 115,
   "metadata": {},
   "outputs": [],
   "source": [
    "def rearrange(dataset, rows, columns, depth):\n",
    "    arranged = np.zeros([columns * depth, rows + 1])\n",
    "    count = 0\n",
    "    for j in range(depth):\n",
    "        for i in range(columns):\n",
    "            arranged[i + count, :-1] = dataset[:, i, j].T\n",
    "            arranged[i + count, -1] = j + 1 # +1 since it starts from 0\n",
    "        \n",
    "        count = count + columns\n",
    "    return arranged"
   ]
  },
  {
   "cell_type": "code",
   "execution_count": 116,
   "metadata": {},
   "outputs": [
    {
     "data": {
      "text/plain": [
       "(120, 120)"
      ]
     },
     "execution_count": 116,
     "metadata": {},
     "output_type": "execute_result"
    }
   ],
   "source": [
    "D = 7 # Features number (ROWS)\n",
    "M = 5 # Measures number for each cell (class) (COLUMNS)\n",
    "Nc = 24 # Classes number (cells number) (DEPTH)\n",
    "\n",
    "len(rearrange(data['traindata'], D, M, Nc)), len(rearrange(data['testdata'], D, M, Nc))"
   ]
  },
  {
   "cell_type": "code",
   "execution_count": 117,
   "metadata": {},
   "outputs": [],
   "source": [
    "train_data = np.random.permutation(rearrange(data['traindata'], D, M, Nc))\n",
    "test_data = np.random.permutation(rearrange(data['testdata'], D, M, Nc))"
   ]
  },
  {
   "cell_type": "code",
   "execution_count": 118,
   "metadata": {},
   "outputs": [],
   "source": [
    "k = 7\n",
    "bar = True\n",
    "\n",
    "M = len(test_data)\n",
    "N = len(train_data)\n",
    "\n",
    "D = np.zeros([M, N], dtype=float)  # Distance matrix\n",
    "E = np.zeros([M, k], dtype=int)  # Array of nearest neighbors\n",
    "pred = np.zeros(M, dtype=int)\n",
    "\n",
    "for i in tqdm(range(M), colour='green', disable=bar): # For each test point\n",
    "    for j in range(N): # For each training point\n",
    "        D[i][j] = np.sqrt(np.sum((test_data[i] - train_data[j]) ** 2)) # Calculate euclidean distance between the points\n",
    "    # Find indices of k nearest neighbors\n",
    "    E[i] = np.argsort(D[i])[:k]\n",
    "\n",
    "    pred[i] = np.argmax(np.bincount(train_data[E[i]][:,-1].astype(int)))"
   ]
  },
  {
   "cell_type": "code",
   "execution_count": 122,
   "metadata": {},
   "outputs": [
    {
     "data": {
      "text/plain": [
       "(array([ 3,  9, 20,  3,  7, 19, 11, 23, 18, 13,  6,  3, 21, 20,  2, 13, 20,\n",
       "        21,  3,  5, 20,  6, 17, 23, 21,  7, 23,  6, 15, 17,  6, 18, 19, 14,\n",
       "        22, 17, 18,  6, 22, 19,  5, 18,  2, 19,  6, 23, 23, 14, 11, 11, 11,\n",
       "        15, 23, 15,  3,  6, 18, 11,  6,  7,  4,  1, 17,  6, 14,  1, 17,  3,\n",
       "         9,  7,  2, 23, 22, 14, 14, 17, 13,  5,  7, 14,  6, 11, 11, 22, 13,\n",
       "        15, 20, 17, 23, 22,  6,  9, 21,  3, 13,  3,  3, 23, 11,  6, 11,  5,\n",
       "         4,  6, 19,  4, 11,  4,  4, 11,  6,  3, 17, 14,  9, 21, 23,  7, 15,\n",
       "         6]),\n",
       " array([ 3, 12, 20,  3,  5, 19,  9, 23, 18, 13,  8,  2, 21, 20,  1, 13, 20,\n",
       "        21,  2,  5, 20, 10, 16, 24, 21,  7, 23, 10, 15, 17,  6, 18, 19, 13,\n",
       "        22, 17, 18, 10, 22, 19,  5, 18,  1, 19,  8, 23, 23, 14, 11,  9, 12,\n",
       "        15, 23, 15,  3, 10, 18, 11,  6,  7,  4,  1, 16,  8, 14,  1, 17,  2,\n",
       "        12,  7,  1, 24, 22, 14, 14, 17, 16,  5,  7, 14,  8,  9,  9, 22, 13,\n",
       "        15, 20, 17, 24, 22, 10, 12, 21,  2, 16,  2,  3, 24, 11,  6, 11,  5,\n",
       "         4,  6, 19,  4,  9,  4,  4, 11,  8,  3, 16, 13, 12, 21, 24,  7, 15,\n",
       "         6]))"
      ]
     },
     "execution_count": 122,
     "metadata": {},
     "output_type": "execute_result"
    }
   ],
   "source": [
    "pred, test_data[:,-1].astype(int)"
   ]
  },
  {
   "cell_type": "markdown",
   "metadata": {},
   "source": [
    "--- HERE LAST IMPLEMENTATION"
   ]
  },
  {
   "cell_type": "code",
   "execution_count": 223,
   "metadata": {},
   "outputs": [],
   "source": [
    "idx = random.randint(0,119)\n",
    "\n",
    "# print(train_data[E[idx]][:,-1].astype(int))\n",
    "# print(np.bincount(train_data[E[idx]][:,-1].astype(int)) / np.sum(np.bincount(train_data[E[idx]][:,-1].astype(int))))\n",
    "# print(np.unique(train_data[E[idx]][:,-1].astype(int)))"
   ]
  },
  {
   "cell_type": "code",
   "execution_count": 224,
   "metadata": {},
   "outputs": [
    {
     "name": "stdout",
     "output_type": "stream",
     "text": [
      "[13 15 17]\n",
      "[4 1 2]\n",
      "[0.57142857 0.14285714 0.28571429]\n"
     ]
    },
    {
     "data": {
      "text/plain": [
       "(13, 0.5714285714285714)"
      ]
     },
     "execution_count": 224,
     "metadata": {},
     "output_type": "execute_result"
    }
   ],
   "source": [
    "vals, freqs = np.unique(train_data[E[idx]][:,-1].astype(int), return_counts=True)\n",
    "percs = freqs / len(train_data[E[idx]][:,-1].astype(int))\n",
    "\n",
    "print(vals)\n",
    "print(freqs)\n",
    "print(percs)\n",
    "vals[np.argmax(freqs)], percs[np.argmax(freqs)]"
   ]
  },
  {
   "cell_type": "markdown",
   "metadata": {},
   "source": [
    "--- END LAST IMPLEMENTATION"
   ]
  },
  {
   "cell_type": "code",
   "execution_count": 7,
   "metadata": {},
   "outputs": [
    {
     "data": {
      "text/plain": [
       "(7, 5, 24)"
      ]
     },
     "execution_count": 7,
     "metadata": {},
     "output_type": "execute_result"
    }
   ],
   "source": [
    "data['traindata'].shape"
   ]
  },
  {
   "cell_type": "code",
   "execution_count": 8,
   "metadata": {},
   "outputs": [
    {
     "data": {
      "text/plain": [
       "(7, 5, 24)"
      ]
     },
     "execution_count": 8,
     "metadata": {},
     "output_type": "execute_result"
    }
   ],
   "source": [
    "data['testdata'].shape"
   ]
  },
  {
   "cell_type": "code",
   "execution_count": 9,
   "metadata": {},
   "outputs": [
    {
     "data": {
      "text/plain": [
       "array([[ 1.5,  1.5],\n",
       "       [ 4.5,  1.5],\n",
       "       [ 7.5,  1.5],\n",
       "       [10.5,  1.5],\n",
       "       [ 1.5,  4.5],\n",
       "       [ 4.5,  4.5],\n",
       "       [ 7.5,  4.5],\n",
       "       [10.5,  4.5],\n",
       "       [ 1.5,  7.5],\n",
       "       [ 4.5,  7.5],\n",
       "       [ 7.5,  7.5],\n",
       "       [10.5,  7.5],\n",
       "       [ 1.5, 10.5],\n",
       "       [ 4.5, 10.5],\n",
       "       [ 7.5, 10.5],\n",
       "       [10.5, 10.5],\n",
       "       [ 1.5, 13.5],\n",
       "       [ 4.5, 13.5],\n",
       "       [ 7.5, 13.5],\n",
       "       [10.5, 13.5],\n",
       "       [ 1.5, 16.5],\n",
       "       [ 4.5, 16.5],\n",
       "       [ 7.5, 16.5],\n",
       "       [10.5, 16.5]])"
      ]
     },
     "execution_count": 9,
     "metadata": {},
     "output_type": "execute_result"
    }
   ],
   "source": [
    "data['cell_coordinates']"
   ]
  },
  {
   "cell_type": "code",
   "execution_count": 10,
   "metadata": {},
   "outputs": [
    {
     "data": {
      "text/plain": [
       "1.7320508075688772"
      ]
     },
     "execution_count": 10,
     "metadata": {},
     "output_type": "execute_result"
    }
   ],
   "source": [
    "np.sqrt(np.sum((rearrange(data['traindata'], D, M, Nc)[0] - rearrange(data['traindata'], D, M, Nc)[1]) ** 2))"
   ]
  },
  {
   "cell_type": "code",
   "execution_count": 72,
   "metadata": {},
   "outputs": [],
   "source": [
    "def knn(x_train: np.ndarray, y_train: np.ndarray, x_test: np.ndarray, k: int = 3, bar: bool = True) -> np.ndarray:\n",
    "\n",
    "    \"\"\"\n",
    "    This function implements the k-nearest neighbors classification algorithm for classifying data points from a test set based on a training set.\n",
    "\n",
    "    Args:\n",
    "        x_train (np.ndarray): A NumPy array containing the training data (features).\n",
    "        y_train (np.ndarray): A NumPy array containing the training data (labels).\n",
    "        x_test (np.ndarray): A NumPy array containing the testing data (features).\n",
    "        k (int, optional): The number of nearest neighbors to consider for classification. Defaults to 3.\n",
    "        bar (bool, optional): A parameter for showing the progress bar. Defaults to False (not showing).\n",
    "\n",
    "    Returns:\n",
    "        np.ndarray: A NumPy array containing the predicted labels for testing data.\n",
    "    \"\"\"\n",
    "\n",
    "    # x_train = train_df.iloc[:,:-1].to_numpy()\n",
    "    # y_train = train_df.iloc[:,-1].to_numpy()\n",
    "    # x_test = test_df.iloc[:,:-2].to_numpy()\n",
    "\n",
    "    # Initialize data structures\n",
    "    M = len(x_test)\n",
    "    N = len(x_train)\n",
    "\n",
    "    # Validate k parameter\n",
    "    assert (type(k) != float) and (k % 2 == 1), \"k parameter should be an odd integer number.\"\n",
    "    assert k < N, \"k parameter should be smaller than the train set size.\"\n",
    "\n",
    "    pred = np.zeros(M, dtype=int)\n",
    "\n",
    "    D = np.zeros([M, N], dtype=float)  # Distance matrix\n",
    "    E = np.zeros([M, k], dtype=int)  # Array of nearest neighbors\n",
    "\n",
    "    for i in tqdm(range(M), colour='green', disable=bar): # For each test point\n",
    "        for j in range(N): # For each training point\n",
    "            D[i][j] = np.sqrt(np.sum((x_test[i] - x_train[j]) ** 2)) # Calculate euclidean distance between the points\n",
    "        \n",
    "        # Find indices of k nearest neighbors\n",
    "        E[i] = np.argsort(D[i])[:k]\n",
    "\n",
    "        # l = np.sum(y_train[E[i]] == 1) >= (k + 1) / 2 # Check majority of labels (l)\n",
    "\n",
    "        # prediction = 1 if l else 2 # Assign prediction based on majority\n",
    "        pred[i] = np.argmax(np.bincount(E[i].astype(int)))\n",
    "    \n",
    "    return pred"
   ]
  },
  {
   "cell_type": "code",
   "execution_count": 73,
   "metadata": {},
   "outputs": [],
   "source": [
    "train = np.random.permutation(rearrange(data['traindata'], D, M, Nc))\n",
    "test = np.random.permutation(rearrange(data['testdata'], D, M, Nc))\n",
    "\n",
    "x_train = train[:, :-1]\n",
    "y_train = train[:, -1]\n",
    "x_test = test[:, :-1]\n",
    "y_test = test[:, -1]\n",
    "\n",
    "pred = knn(\n",
    "    x_train=x_train,\n",
    "    y_train=y_train,\n",
    "    x_test=x_test,\n",
    "    k=3\n",
    ")"
   ]
  },
  {
   "cell_type": "code",
   "execution_count": 76,
   "metadata": {},
   "outputs": [
    {
     "data": {
      "text/plain": [
       "(array([ 2, 16, 64, 41, 22, 21, 38, 35, 32,  2,  3,  7,  0, 43,  2, 43, 20,\n",
       "        43, 26,  2, 31, 10,  9, 26,  9, 26, 21, 30, 26, 54, 26, 54, 28, 10,\n",
       "        38, 32,  7, 20,  3, 31, 28, 18, 43, 35,  9, 18, 25, 43, 28, 30, 38,\n",
       "        38,  9,  9, 26, 64, 28, 10, 26, 64, 28, 59,  7, 26, 64, 25, 64, 21,\n",
       "        15,  3, 35, 25, 25,  3, 10, 15, 21, 12, 12, 54, 12,  7, 22, 88, 25,\n",
       "         3, 18,  3, 28, 32, 26, 22,  3,  7, 18, 31,  9, 20, 58, 12,  3,  4,\n",
       "         4, 28, 31,  3, 12,  0, 22,  4, 30, 26, 28, 22, 20, 20, 41, 21,  2,\n",
       "        10]),\n",
       " array([18, 13, 15,  3, 19, 11, 12,  1, 13, 18,  7,  8,  1, 10, 18, 10,  2,\n",
       "        10, 23, 18, 21,  4, 14, 24, 14, 24, 11, 22, 23,  3, 23,  3, 12,  4,\n",
       "        12, 13,  8,  2,  6, 21,  9,  5, 10,  1, 14,  5, 20, 10,  9, 22, 12,\n",
       "        12, 14, 14, 24, 16,  9,  4, 24, 15,  9, 21,  8, 23, 15, 20, 15, 11,\n",
       "        22,  7,  1, 20, 20,  7,  4, 22, 11, 16, 17,  3, 17,  8, 19, 15, 20,\n",
       "         6,  5,  6,  6, 13, 24, 19,  7,  8,  5, 21, 13,  2, 17, 17,  5, 16,\n",
       "        16,  9, 21,  7, 17,  1, 19, 16, 22, 23,  6, 19,  2,  2,  3, 11, 18,\n",
       "         4]))"
      ]
     },
     "execution_count": 76,
     "metadata": {},
     "output_type": "execute_result"
    }
   ],
   "source": [
    "pred, y_test.astype(int)"
   ]
  },
  {
   "cell_type": "code",
   "execution_count": 117,
   "metadata": {},
   "outputs": [
    {
     "data": {
      "text/plain": [
       "(120, 3)"
      ]
     },
     "execution_count": 117,
     "metadata": {},
     "output_type": "execute_result"
    }
   ],
   "source": []
  },
  {
   "cell_type": "code",
   "execution_count": 120,
   "metadata": {},
   "outputs": [
    {
     "data": {
      "text/plain": [
       "(array([ 9.,  6., 12.]), array([ 9.,  6., 12.]))"
      ]
     },
     "execution_count": 120,
     "metadata": {},
     "output_type": "execute_result"
    }
   ],
   "source": [
    "import random\n",
    "i = random.randint(1,120)\n",
    "y_test[pred[i]], y_test[pred[i]]"
   ]
  },
  {
   "cell_type": "code",
   "execution_count": null,
   "metadata": {},
   "outputs": [],
   "source": []
  }
 ],
 "metadata": {
  "kernelspec": {
   "display_name": "DataScience",
   "language": "python",
   "name": "python3"
  },
  "language_info": {
   "codemirror_mode": {
    "name": "ipython",
    "version": 3
   },
   "file_extension": ".py",
   "mimetype": "text/x-python",
   "name": "python",
   "nbconvert_exporter": "python",
   "pygments_lexer": "ipython3",
   "version": "3.11.4"
  }
 },
 "nbformat": 4,
 "nbformat_minor": 2
}
