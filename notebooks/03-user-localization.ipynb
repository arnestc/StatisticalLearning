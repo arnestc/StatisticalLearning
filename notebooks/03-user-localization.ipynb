{
 "cells": [
  {
   "cell_type": "markdown",
   "metadata": {},
   "source": [
    "# Computer Lab 1: k-NN classifier\n",
    "\n",
    "## Exercise 3 – User localization from RSSI\n",
    "\n",
    "Consider the following scenario, in which we wish to localize a user employing a non-GPS system  (e.g., in indoor localization). The user holds a transmission device (e.g., a smartphone or other sensor with transmission capabilities). Localization is based on measurements of the Received Signal Strength Indicator (RSSI) from D sensors (base stations) placed in the area in which the localization service is provided. The area is divided into $N_C$ square cells, and localization amounts to identifying the cell in which the user is located.\n",
    "\n",
    "In a **training stage**, the transmission device is placed in the center of each cell and broadcasts a data packet, and RSSI is measured by each sensor. This yields one measurement, corresponding to a vector of length $D$. The process is repeated $M$ times for each cell, and for all $N_C$ cells. The training stage provides a 3-dimensional array of size $N_C \\times D \\times M$.\n",
    "\n",
    "In a **test stage**, the user is located in an unknown cell. The transmission device broadcasts a data packet, and each sensor measures the RSSI and communicates it to a fusion center. The fusion center treats the received RSSI values as a test vector of length $D$. It applies a k-NN classifier, comparing the test vector with all $M \\times N_C$ training vectors available in the training set. For each test vector, the k-NN classifier outputs the probability that each cell contains the user.\n",
    "\n",
    "**Available data**: you are provided with a file (`localization.mat` in `/data/` folder) containing two variables, called traindata and testdata. These variables have the same size, and are 3-dimensional arrays of size $D=7$, $M=5$, and $N_C = 24$.\n",
    "\n",
    "The training data can be seen as labelled data where each cell is a class, and you are given M data vectors for each cell. Regarding the test data, a test vector consists of a single measurement; so each measurement has to be used individually and you can perform up to M tests for each cell.\n",
    "The data correspond to real acquisition experiments performed outdoors nearby Politecnico di Torino, using an STM32L microcontroller with 915 MHz 802.15.4 transceiver.\n",
    "\n",
    "**Task**: your task is to implement a k-NN classifier in Matlab for the classification task described above, and evaluate its performance.\n",
    "\n",
    "**Performance evaluation**: The performance is defined in terms of accuracy in the localization task, and it has to be averaged over all cells. Average accuracy is defined as the posterior probability associated to the cell that the user is actually located in."
   ]
  },
  {
   "cell_type": "code",
   "execution_count": 2,
   "metadata": {},
   "outputs": [],
   "source": [
    "import matplotlib.pyplot as plt\n",
    "import numpy as np\n",
    "import os\n",
    "import pandas as pd\n",
    "import scipy.io\n",
    "import seaborn as sns\n",
    "from sklearn.model_selection import train_test_split\n",
    "from sklearn.metrics import accuracy_score\n",
    "from sklearn.neighbors import KNeighborsClassifier\n",
    "from tqdm import tqdm\n",
    "\n",
    "# Plots setting.\n",
    "sns.set_context(\n",
    "    'talk', rc = {\n",
    "        'font.size': 12.0,\n",
    "        'axes.labelsize': 10.0,\n",
    "        'axes.titlesize': 10.0,\n",
    "        'xtick.labelsize': 10.0,\n",
    "        'ytick.labelsize': 10.0,\n",
    "        'legend.fontsize': 10.0,\n",
    "        'legend.title_fontsize': 12.0,\n",
    "        'patch.linewidth': 2.0\n",
    "        }\n",
    "    )\n",
    "\n",
    "data_sets = ['Train', 'Test']"
   ]
  },
  {
   "cell_type": "code",
   "execution_count": 3,
   "metadata": {},
   "outputs": [
    {
     "data": {
      "text/plain": [
       "'/'"
      ]
     },
     "execution_count": 3,
     "metadata": {},
     "output_type": "execute_result"
    }
   ],
   "source": [
    "# Check current folder.\n",
    "os.getcwd()"
   ]
  },
  {
   "cell_type": "code",
   "execution_count": 27,
   "metadata": {},
   "outputs": [
    {
     "name": "stdout",
     "output_type": "stream",
     "text": [
      "Data ✓\n",
      " Data Keys: dict_keys(['__header__', '__version__', '__globals__', 'cell_coordinates', 'testdata', 'traindata'])\n"
     ]
    }
   ],
   "source": [
    "data_path = \"/Users/ernestocolacrai/Documents/GitHub/StatisticalLearning/data/\"\n",
    "\n",
    "try:\n",
    "    # Attempt to load the MATLAB data file.\n",
    "    data = scipy.io.loadmat(data_path + f\"localization.mat\")\n",
    "\n",
    "    print(\n",
    "        f\"Data ✓\\n\",\n",
    "        f\"Data Keys: {data.keys()}\"\n",
    "        )\n",
    "except:\n",
    "    print(f\"Not found data! ({data_path})\")"
   ]
  },
  {
   "cell_type": "code",
   "execution_count": 106,
   "metadata": {},
   "outputs": [],
   "source": [
    "def rearrange(dataset, rows, columns, depth):\n",
    "    arranged = np.zeros([columns * depth, rows + 1])\n",
    "    count = 0\n",
    "    for j in range(depth):\n",
    "        for i in np.arange(0, columns, 1):\n",
    "            arranged[i + count, :-1] = dataset[:, i, j].T\n",
    "            arranged[i + count, -1] = j + 1\n",
    "        \n",
    "        count = count + columns\n",
    "    return arranged\n",
    "\n",
    "# function [ArrangedSet] = Rearrange(dataset, row, column, depth)\n",
    "#     ArrangedSet = zeros(column*depth,row+1);\n",
    "#     count = 0;\n",
    "#     for j=1:depth\n",
    "#         for i=1:column\n",
    "#             ArrangedSet(i+count,1:7) = dataset(:,i,j)';\n",
    "#             ArrangedSet(i+count,8) = j;\n",
    "#         end\n",
    "#         count = count + column;\n",
    "#     end\n",
    "# end"
   ]
  },
  {
   "cell_type": "code",
   "execution_count": 103,
   "metadata": {},
   "outputs": [],
   "source": [
    "arranged = np.zeros([M * Nc, D + 1])\n",
    "i = 0\n",
    "arranged[i:M, :-1] = data['traindata'][:, :, i].T\n",
    "arranged[i:M, -1] = i"
   ]
  },
  {
   "cell_type": "code",
   "execution_count": null,
   "metadata": {},
   "outputs": [],
   "source": []
  },
  {
   "cell_type": "code",
   "execution_count": 109,
   "metadata": {},
   "outputs": [
    {
     "data": {
      "text/plain": [
       "(120, 120)"
      ]
     },
     "execution_count": 109,
     "metadata": {},
     "output_type": "execute_result"
    }
   ],
   "source": [
    "Nc = 24 # Classes number (cells number)\n",
    "M = 5 # Measures number for each cell(class)\n",
    "D = 7 # Features number\n",
    "\n",
    "len(rearrange(data['traindata'], D, M, Nc)), len(rearrange(data['testdata'], D, M, Nc))"
   ]
  },
  {
   "cell_type": "code",
   "execution_count": 75,
   "metadata": {},
   "outputs": [
    {
     "data": {
      "text/plain": [
       "array([[[-32, -31, -27, -28, -44, -49, -44, -44, -52, -52, -60, -53,\n",
       "         -62, -61, -61, -56, -68, -71, -63, -62, -73, -63, -69, -79],\n",
       "        [-32, -31, -27, -28, -46, -49, -44, -44, -52, -52, -60, -53,\n",
       "         -63, -61, -56, -57, -67, -71, -63, -63, -74, -63, -68, -77],\n",
       "        [-32, -31, -27, -27, -44, -49, -44, -44, -52, -52, -60, -53,\n",
       "         -62, -61, -56, -57, -68, -68, -63, -62, -74, -63, -68, -77],\n",
       "        [-32, -30, -27, -28, -45, -49, -45, -44, -51, -52, -60, -53,\n",
       "         -63, -61, -56, -56, -68, -68, -63, -64, -74, -63, -68, -75],\n",
       "        [-32, -30, -28, -28, -44, -48, -45, -44, -52, -52, -60, -53,\n",
       "         -63, -60, -56, -57, -68, -68, -63, -64, -74, -63, -68, -74]],\n",
       "\n",
       "       [[-49, -49, -35, -44, -34, -33, -34, -36, -39, -33, -39, -54,\n",
       "         -66, -47, -50, -53, -58, -57, -55, -54, -63, -62, -68, -54],\n",
       "        [-49, -49, -35, -44, -32, -33, -35, -37, -39, -33, -39, -54,\n",
       "         -66, -46, -54, -53, -58, -58, -54, -56, -63, -63, -69, -54],\n",
       "        [-48, -49, -35, -48, -33, -33, -34, -37, -39, -33, -39, -55,\n",
       "         -67, -46, -51, -52, -58, -57, -55, -56, -63, -63, -67, -54],\n",
       "        [-48, -49, -35, -47, -33, -34, -35, -37, -39, -33, -39, -57,\n",
       "         -67, -47, -51, -51, -57, -57, -54, -56, -64, -63, -67, -54],\n",
       "        [-48, -49, -35, -47, -34, -34, -35, -37, -39, -33, -39, -55,\n",
       "         -67, -46, -51, -52, -57, -58, -54, -56, -65, -63, -67, -54]],\n",
       "\n",
       "       [[-46, -40, -40, -45, -39, -36, -37, -32, -44, -36, -36, -35,\n",
       "         -47, -45, -45, -68, -63, -57, -55, -63, -57, -73, -55, -62],\n",
       "        [-46, -40, -41, -45, -40, -35, -36, -32, -44, -36, -36, -35,\n",
       "         -47, -45, -46, -67, -63, -57, -55, -65, -57, -73, -55, -61],\n",
       "        [-46, -41, -40, -47, -40, -35, -36, -33, -44, -36, -36, -35,\n",
       "         -47, -44, -46, -65, -63, -58, -56, -65, -57, -69, -56, -62],\n",
       "        [-47, -40, -40, -45, -40, -36, -36, -32, -44, -36, -36, -35,\n",
       "         -47, -44, -46, -62, -63, -57, -55, -65, -57, -72, -56, -61],\n",
       "        [-46, -40, -41, -45, -40, -36, -37, -32, -44, -36, -36, -36,\n",
       "         -47, -44, -46, -65, -63, -57, -56, -66, -58, -66, -55, -62]],\n",
       "\n",
       "       [[-71, -56, -54, -54, -53, -54, -50, -48, -53, -52, -51, -45,\n",
       "         -38, -35, -39, -39, -47, -36, -38, -38, -55, -47, -46, -41],\n",
       "        [-72, -56, -54, -53, -54, -54, -50, -48, -53, -52, -51, -44,\n",
       "         -38, -34, -35, -40, -47, -36, -37, -39, -56, -48, -46, -41],\n",
       "        [-71, -55, -53, -50, -54, -53, -50, -48, -53, -51, -52, -44,\n",
       "         -38, -34, -35, -40, -46, -36, -37, -38, -56, -47, -46, -41],\n",
       "        [-71, -55, -54, -56, -55, -53, -49, -48, -53, -51, -51, -44,\n",
       "         -37, -34, -35, -39, -46, -36, -37, -38, -56, -48, -45, -41],\n",
       "        [-71, -55, -53, -55, -57, -52, -49, -48, -53, -51, -51, -44,\n",
       "         -34, -34, -35, -39, -46, -36, -36, -38, -56, -47, -46, -41]],\n",
       "\n",
       "       [[-54, -54, -50, -61, -55, -63, -55, -62, -49, -47, -50, -55,\n",
       "         -40, -35, -38, -37, -44, -36, -31, -54, -45, -46, -51, -51],\n",
       "        [-54, -54, -50, -62, -60, -62, -55, -76, -49, -47, -50, -54,\n",
       "         -39, -35, -48, -36, -44, -36, -31, -56, -45, -47, -50, -51],\n",
       "        [-54, -55, -50, -59, -60, -62, -55, -74, -49, -47, -50, -54,\n",
       "         -40, -35, -47, -38, -44, -36, -31, -58, -45, -47, -51, -51],\n",
       "        [-54, -55, -51, -63, -65, -63, -55, -67, -49, -47, -49, -55,\n",
       "         -39, -35, -46, -35, -44, -36, -31, -58, -45, -47, -50, -51],\n",
       "        [-54, -55, -51, -63, -71, -62, -55, -64, -49, -47, -49, -53,\n",
       "         -39, -35, -45, -37, -43, -36, -32, -57, -45, -47, -51, -51]],\n",
       "\n",
       "       [[-63, -59, -68, -66, -68, -57, -72, -58, -55, -51, -55, -66,\n",
       "         -41, -49, -55, -51, -44, -50, -42, -42, -34, -29, -26, -26],\n",
       "        [-64, -59, -70, -66, -68, -57, -68, -57, -56, -51, -55, -63,\n",
       "         -41, -49, -66, -50, -44, -50, -44, -38, -35, -30, -26, -26],\n",
       "        [-63, -59, -71, -62, -71, -57, -68, -57, -56, -51, -55, -62,\n",
       "         -42, -50, -67, -47, -44, -49, -45, -39, -35, -30, -26, -26],\n",
       "        [-64, -59, -68, -65, -68, -57, -80, -58, -56, -51, -55, -63,\n",
       "         -42, -50, -66, -47, -44, -50, -45, -37, -34, -30, -26, -26],\n",
       "        [-64, -59, -68, -65, -63, -56, -67, -57, -56, -51, -55, -60,\n",
       "         -42, -49, -64, -45, -44, -51, -45, -38, -34, -30, -26, -26]],\n",
       "\n",
       "       [[-50, -52, -50, -45, -53, -42, -49, -33, -39, -34, -36, -31,\n",
       "         -36, -44, -40, -35, -48, -52, -55, -57, -55, -52, -56, -53],\n",
       "        [-49, -52, -50, -45, -56, -42, -49, -34, -39, -35, -36, -31,\n",
       "         -36, -41, -41, -35, -48, -51, -54, -58, -55, -53, -56, -54],\n",
       "        [-50, -51, -50, -48, -55, -42, -49, -34, -39, -35, -36, -31,\n",
       "         -36, -42, -39, -35, -49, -52, -55, -56, -55, -53, -57, -53],\n",
       "        [-50, -51, -50, -47, -57, -42, -49, -34, -39, -34, -36, -32,\n",
       "         -36, -42, -39, -36, -49, -51, -54, -58, -55, -53, -56, -51],\n",
       "        [-49, -51, -50, -46, -54, -42, -47, -34, -39, -35, -36, -31,\n",
       "         -36, -44, -39, -35, -48, -51, -56, -59, -55, -53, -56, -53]]],\n",
       "      dtype=int16)"
      ]
     },
     "execution_count": 75,
     "metadata": {},
     "output_type": "execute_result"
    }
   ],
   "source": [
    "data['traindata']"
   ]
  },
  {
   "cell_type": "code",
   "execution_count": null,
   "metadata": {},
   "outputs": [],
   "source": []
  }
 ],
 "metadata": {
  "kernelspec": {
   "display_name": "DataScience",
   "language": "python",
   "name": "python3"
  },
  "language_info": {
   "codemirror_mode": {
    "name": "ipython",
    "version": 3
   },
   "file_extension": ".py",
   "mimetype": "text/x-python",
   "name": "python",
   "nbconvert_exporter": "python",
   "pygments_lexer": "ipython3",
   "version": "3.11.4"
  }
 },
 "nbformat": 4,
 "nbformat_minor": 2
}
