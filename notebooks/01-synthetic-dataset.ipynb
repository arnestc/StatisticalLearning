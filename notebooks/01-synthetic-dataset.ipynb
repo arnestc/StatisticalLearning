{
 "cells": [
  {
   "cell_type": "code",
   "execution_count": 5,
   "id": "eedb64cf",
   "metadata": {},
   "outputs": [],
   "source": [
    "import numpy as np\n",
    "import pandas as pd\n",
    "import scipy.io"
   ]
  },
  {
   "cell_type": "code",
   "execution_count": 6,
   "id": "db70662f",
   "metadata": {},
   "outputs": [],
   "source": [
    "data = scipy.io.loadmat('Statistical Learning & Neural Networks/Lab1-SLNN2020/synthetic.mat')"
   ]
  },
  {
   "cell_type": "code",
   "execution_count": 7,
   "id": "2c71f7e1",
   "metadata": {},
   "outputs": [
    {
     "data": {
      "text/html": [
       "<div>\n",
       "<style scoped>\n",
       "    .dataframe tbody tr th:only-of-type {\n",
       "        vertical-align: middle;\n",
       "    }\n",
       "\n",
       "    .dataframe tbody tr th {\n",
       "        vertical-align: top;\n",
       "    }\n",
       "\n",
       "    .dataframe thead th {\n",
       "        text-align: right;\n",
       "    }\n",
       "</style>\n",
       "<table border=\"1\" class=\"dataframe\">\n",
       "  <thead>\n",
       "    <tr style=\"text-align: right;\">\n",
       "      <th></th>\n",
       "      <th>x</th>\n",
       "      <th>y</th>\n",
       "      <th>label</th>\n",
       "    </tr>\n",
       "  </thead>\n",
       "  <tbody>\n",
       "    <tr>\n",
       "      <th>0</th>\n",
       "      <td>3.0766</td>\n",
       "      <td>3.9354</td>\n",
       "      <td>1.0</td>\n",
       "    </tr>\n",
       "    <tr>\n",
       "      <th>1</th>\n",
       "      <td>0.3230</td>\n",
       "      <td>3.7768</td>\n",
       "      <td>1.0</td>\n",
       "    </tr>\n",
       "    <tr>\n",
       "      <th>2</th>\n",
       "      <td>2.2275</td>\n",
       "      <td>3.1865</td>\n",
       "      <td>1.0</td>\n",
       "    </tr>\n",
       "    <tr>\n",
       "      <th>3</th>\n",
       "      <td>2.1847</td>\n",
       "      <td>3.1470</td>\n",
       "      <td>1.0</td>\n",
       "    </tr>\n",
       "    <tr>\n",
       "      <th>4</th>\n",
       "      <td>2.0982</td>\n",
       "      <td>2.6313</td>\n",
       "      <td>1.0</td>\n",
       "    </tr>\n",
       "    <tr>\n",
       "      <th>...</th>\n",
       "      <td>...</td>\n",
       "      <td>...</td>\n",
       "      <td>...</td>\n",
       "    </tr>\n",
       "    <tr>\n",
       "      <th>95</th>\n",
       "      <td>-4.8813</td>\n",
       "      <td>-0.2345</td>\n",
       "      <td>2.0</td>\n",
       "    </tr>\n",
       "    <tr>\n",
       "      <th>96</th>\n",
       "      <td>-1.3670</td>\n",
       "      <td>-0.2383</td>\n",
       "      <td>2.0</td>\n",
       "    </tr>\n",
       "    <tr>\n",
       "      <th>97</th>\n",
       "      <td>-0.2258</td>\n",
       "      <td>1.4781</td>\n",
       "      <td>2.0</td>\n",
       "    </tr>\n",
       "    <tr>\n",
       "      <th>98</th>\n",
       "      <td>-2.0594</td>\n",
       "      <td>-1.1995</td>\n",
       "      <td>2.0</td>\n",
       "    </tr>\n",
       "    <tr>\n",
       "      <th>99</th>\n",
       "      <td>0.1856</td>\n",
       "      <td>2.5484</td>\n",
       "      <td>2.0</td>\n",
       "    </tr>\n",
       "  </tbody>\n",
       "</table>\n",
       "<p>100 rows × 3 columns</p>\n",
       "</div>"
      ],
      "text/plain": [
       "         x       y  label\n",
       "0   3.0766  3.9354    1.0\n",
       "1   0.3230  3.7768    1.0\n",
       "2   2.2275  3.1865    1.0\n",
       "3   2.1847  3.1470    1.0\n",
       "4   2.0982  2.6313    1.0\n",
       "..     ...     ...    ...\n",
       "95 -4.8813 -0.2345    2.0\n",
       "96 -1.3670 -0.2383    2.0\n",
       "97 -0.2258  1.4781    2.0\n",
       "98 -2.0594 -1.1995    2.0\n",
       "99  0.1856  2.5484    2.0\n",
       "\n",
       "[100 rows x 3 columns]"
      ]
     },
     "execution_count": 7,
     "metadata": {},
     "output_type": "execute_result"
    }
   ],
   "source": [
    "pd.DataFrame({'x': data['knnClassify2dTest'][:,0], 'y': data['knnClassify2dTest'][:,1], 'label': data['knnClassify2dTest'][:,2]})"
   ]
  },
  {
   "cell_type": "code",
   "execution_count": null,
   "id": "868fc397",
   "metadata": {},
   "outputs": [],
   "source": []
  }
 ],
 "metadata": {
  "kernelspec": {
   "display_name": "Python 3 (ipykernel)",
   "language": "python",
   "name": "python3"
  },
  "language_info": {
   "codemirror_mode": {
    "name": "ipython",
    "version": 3
   },
   "file_extension": ".py",
   "mimetype": "text/x-python",
   "name": "python",
   "nbconvert_exporter": "python",
   "pygments_lexer": "ipython3",
   "version": "3.11.4"
  }
 },
 "nbformat": 4,
 "nbformat_minor": 5
}
