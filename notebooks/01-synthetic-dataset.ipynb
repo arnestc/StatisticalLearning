{
 "cells": [
  {
   "cell_type": "markdown",
   "id": "55323aeb",
   "metadata": {},
   "source": [
    "# Computer Lab 1: k-NN classifier\n",
    "\n",
    "## Exercise 1 – Synthetic dataset \n",
    " \n",
    "In this exercise, you will employ a synthetic dataset (file `synthetic.mat` in `/data/` folder), containing labelled training data and test data for two classes. Each example is 2-dimensional. \n",
    " \n",
    "**Task**: your task is to implement a k-NN classifier in Matlab, which calculates the probability that a given test example belongs to each class, and outputs a class label as the class with the highest  probability. You will evaluate the classifier performance computing the average classification accuracy (i.e. the fraction of test examples that have been classified correctly).\n",
    " \n",
    "In particular, you should perform the following:\n",
    "* Train a k-NN classifier for different values of k. \n",
    "* Compare accuracy on the training set and the test set. Calculating accuracy of the training  set means that you will have to classify each sample in the training set as if it were a test sample; one expects that classification of training samples will perform well, and this may also be used to validate your implementation. \n",
    "    * Accuracy is defined as the ratio between the number of test samples that are correctly classified, and the total number of test samples. \n",
    "* Identifying overfitting and underfitting in the obtained results. \n",
    " \n",
    "Note that, for this computer lab, you do not need to employ a validation set."
   ]
  },
  {
   "cell_type": "markdown",
   "id": "c569a30d",
   "metadata": {},
   "source": [
    "## k-NN Classifier: Theory\n",
    "\n",
    "* Classification\n",
    "    * This is a supervised learning approach, since there are some classes (2 in this particular case, then binary classification task) among them the algorithm must choose for each data input.\n",
    "* k-NN: k-th Nearest Neighboors\n",
    "    * Supervised learning algorithm\n",
    "        * Within the test set, the algorithm identifies the k-nearest neighbors for each data point. Subsequently, it assigns the label to each data point in the test set based on the prevalent label among its k-nearest neighbors in the train set.\n",
    "        * Metrics: to compute the nearest neighboors can be choosen any metrics to calculate \"distance\" between data points. Since in this case the data points are 2-dimensional, it has been used the Euclidean distance $d_{p_1,p_2}=\\sqrt{(x_2-x_1)^2+(y_2-y_1)^2}$.\n",
    "    * Non-parametric algorithm: no prior assumptions on data points distribution."
   ]
  },
  {
   "cell_type": "code",
   "execution_count": 1,
   "id": "eedb64cf",
   "metadata": {},
   "outputs": [],
   "source": [
    "import matplotlib\n",
    "import numpy as np\n",
    "import os\n",
    "import pandas as pd\n",
    "import scipy.io\n",
    "import seaborn as sns\n",
    "\n",
    "# Plots\n",
    "sns.set_context(\n",
    "    'talk', rc = {\n",
    "        'font.size': 12.0,\n",
    "        'axes.labelsize': 10.0,\n",
    "        'axes.titlesize': 10.0,\n",
    "        'xtick.labelsize': 10.0,\n",
    "        'ytick.labelsize': 10.0,\n",
    "        'legend.fontsize': 10.0,\n",
    "        'legend.title_fontsize': 12.0,\n",
    "        'patch.linewidth': 2.0\n",
    "        }\n",
    "    ) # 'paper'\n",
    "\n",
    "data_sets = ['Train', 'Test']"
   ]
  },
  {
   "cell_type": "code",
   "execution_count": 2,
   "id": "acbf2792",
   "metadata": {},
   "outputs": [
    {
     "data": {
      "text/plain": [
       "'/'"
      ]
     },
     "execution_count": 2,
     "metadata": {},
     "output_type": "execute_result"
    }
   ],
   "source": [
    "# Check current folder\n",
    "os.getcwd()"
   ]
  },
  {
   "cell_type": "code",
   "execution_count": 16,
   "id": "db70662f",
   "metadata": {},
   "outputs": [
    {
     "name": "stdout",
     "output_type": "stream",
     "text": [
      "Data ✓\n",
      "Data Keys: dict_keys(['__header__', '__version__', '__globals__', 'knnClassify2dTest', 'knnClassify2dTrain'])\n"
     ]
    }
   ],
   "source": [
    "data_path = '/Users/ernestocolacrai/Documents/GitHub/StatisticalLearning/data/synthetic.mat'\n",
    "\n",
    "try:\n",
    "    data = scipy.io.loadmat(data_path)\n",
    "    print(f\"Data ✓\")\n",
    "    print(f\"Data Keys: {data.keys()}\")\n",
    "except:\n",
    "    print(f\"Not found data! ({data_path})\")"
   ]
  },
  {
   "cell_type": "code",
   "execution_count": 17,
   "id": "2c71f7e1",
   "metadata": {},
   "outputs": [
    {
     "name": "stdout",
     "output_type": "stream",
     "text": [
      "Train (100 data points) ✓\n",
      "Train data types:\n",
      "x        float64\n",
      "y        float64\n",
      "label    float64\n",
      "dtype: object\n",
      "\n",
      "Test (100 data points) ✓\n",
      "Test data types:\n",
      "x        float64\n",
      "y        float64\n",
      "label    float64\n",
      "dtype: object\n",
      "\n"
     ]
    },
    {
     "data": {
      "text/html": [
       "<div>\n",
       "<style scoped>\n",
       "    .dataframe tbody tr th:only-of-type {\n",
       "        vertical-align: middle;\n",
       "    }\n",
       "\n",
       "    .dataframe tbody tr th {\n",
       "        vertical-align: top;\n",
       "    }\n",
       "\n",
       "    .dataframe thead th {\n",
       "        text-align: right;\n",
       "    }\n",
       "</style>\n",
       "<table border=\"1\" class=\"dataframe\">\n",
       "  <thead>\n",
       "    <tr style=\"text-align: right;\">\n",
       "      <th></th>\n",
       "      <th>x</th>\n",
       "      <th>y</th>\n",
       "      <th>label</th>\n",
       "    </tr>\n",
       "  </thead>\n",
       "  <tbody>\n",
       "    <tr>\n",
       "      <th>0</th>\n",
       "      <td>2.1627</td>\n",
       "      <td>3.8666</td>\n",
       "      <td>1.0</td>\n",
       "    </tr>\n",
       "    <tr>\n",
       "      <th>1</th>\n",
       "      <td>2.0862</td>\n",
       "      <td>2.8266</td>\n",
       "      <td>1.0</td>\n",
       "    </tr>\n",
       "    <tr>\n",
       "      <th>2</th>\n",
       "      <td>1.8345</td>\n",
       "      <td>4.6970</td>\n",
       "      <td>1.0</td>\n",
       "    </tr>\n",
       "    <tr>\n",
       "      <th>3</th>\n",
       "      <td>2.6564</td>\n",
       "      <td>3.5323</td>\n",
       "      <td>1.0</td>\n",
       "    </tr>\n",
       "    <tr>\n",
       "      <th>4</th>\n",
       "      <td>3.9049</td>\n",
       "      <td>1.4013</td>\n",
       "      <td>1.0</td>\n",
       "    </tr>\n",
       "  </tbody>\n",
       "</table>\n",
       "</div>"
      ],
      "text/plain": [
       "        x       y  label\n",
       "0  2.1627  3.8666    1.0\n",
       "1  2.0862  2.8266    1.0\n",
       "2  1.8345  4.6970    1.0\n",
       "3  2.6564  3.5323    1.0\n",
       "4  3.9049  1.4013    1.0"
      ]
     },
     "execution_count": 17,
     "metadata": {},
     "output_type": "execute_result"
    }
   ],
   "source": [
    "data_df = {}\n",
    "\n",
    "for d_type in data_sets:\n",
    "    data_df[d_type] = pd.DataFrame(\n",
    "        {'x': data[f'knnClassify2d{d_type}'][:,0],\n",
    "        'y': data[f'knnClassify2d{d_type}'][:,1],\n",
    "        'label': data[f'knnClassify2d{d_type}'][:,2]\n",
    "        }\n",
    "    )\n",
    "    print(f\"{d_type} ({len(data_df[d_type])} data points) ✓\")\n",
    "    print(f\"{d_type} data types:\\n{data_df[d_type].dtypes}\\n\")\n",
    "\n",
    "data_df['Train'].head()"
   ]
  },
  {
   "cell_type": "code",
   "execution_count": 18,
   "id": "5d73c4c8",
   "metadata": {},
   "outputs": [
    {
     "name": "stdout",
     "output_type": "stream",
     "text": [
      "Train:\n",
      "x        0\n",
      "y        0\n",
      "label    0\n",
      "dtype: int64\n",
      "\n",
      "Test:\n",
      "x        0\n",
      "y        0\n",
      "label    0\n",
      "dtype: int64\n",
      "\n"
     ]
    }
   ],
   "source": [
    "# Check for NaN values\n",
    "for d_type in data_sets:\n",
    "    print(f\"{d_type}:\\n{data_df[f'{d_type}'].isna().sum(axis=0)}\\n\")"
   ]
  },
  {
   "cell_type": "code",
   "execution_count": 19,
   "id": "b2527530",
   "metadata": {},
   "outputs": [],
   "source": [
    "# Label = 1 or 2, then it is sufficient to use a 'int8' data type\n",
    "for d_type in data_sets:\n",
    "    data_df[d_type].label = data_df[d_type].label.astype('int8')"
   ]
  },
  {
   "cell_type": "code",
   "execution_count": 20,
   "id": "d4c99832",
   "metadata": {},
   "outputs": [
    {
     "data": {
      "text/plain": [
       "<seaborn.axisgrid.JointGrid at 0x148be3490>"
      ]
     },
     "execution_count": 20,
     "metadata": {},
     "output_type": "execute_result"
    },
    {
     "data": {
      "image/png": "[encoded data removed]",
      "text/plain": [
       "<Figure size 600x600 with 3 Axes>"
      ]
     },
     "metadata": {},
     "output_type": "display_data"
    }
   ],
   "source": [
    "sns.jointplot(\n",
    "    data=data_df['Train'], x='x', y='y',\n",
    "    hue='label',\n",
    "    palette='Set1', alpha=0.5\n",
    "    )"
   ]
  },
  {
   "cell_type": "code",
   "execution_count": 21,
   "id": "a13b892d",
   "metadata": {},
   "outputs": [
    {
     "data": {
      "text/plain": [
       "True"
      ]
     },
     "execution_count": 21,
     "metadata": {},
     "output_type": "execute_result"
    }
   ],
   "source": [
    "type(data_df[d_type].loc[0][['x', 'y']].values) == np.ndarray"
   ]
  },
  {
   "cell_type": "code",
   "execution_count": 22,
   "id": "aae24a60",
   "metadata": {},
   "outputs": [],
   "source": [
    "def euclidean(point1:np.ndarray, point2:np.ndarray) -> float:\n",
    "    '''\n",
    "    Euclidean metrics to compute the distance between two data points.\n",
    "    Input: x:np.ndarray, y:np.ndarray\n",
    "    Output: d:float\n",
    "    '''\n",
    "    return round(np.sqrt((point1[0] - point2[0])**2 + (point1[1] - point2[1])**2), 4)"
   ]
  },
  {
   "cell_type": "code",
   "execution_count": 23,
   "id": "1f65a1d2",
   "metadata": {},
   "outputs": [
    {
     "data": {
      "text/plain": [
       "1.0428"
      ]
     },
     "execution_count": 23,
     "metadata": {},
     "output_type": "execute_result"
    }
   ],
   "source": [
    "euclidean(\n",
    "    data_df['Train'].loc[0][['x', 'y']].values,\n",
    "    data_df['Train'].loc[1][['x', 'y']].values\n",
    ")"
   ]
  },
  {
   "cell_type": "markdown",
   "id": "ecb8f3f8",
   "metadata": {},
   "source": [
    "* k-NN algorithm:\n",
    "    * $\\forall\\ \\mathbf{y}\\in\\mathcal{D}_{\\text{TEST}}$\n",
    "        * $\\forall\\ \\mathbf{x}\\in\\mathcal{D}_{\\text{TRAIN}}$\n",
    "            * $d_{\\mathbf{x},\\mathbf{y}}=\\sqrt{(y_1-x_1)^2 + (y_2 - x_2)^2}$\n",
    "        * Select k-th points in train-set with the lowest distances associated to $\\mathbf{y}$\n",
    "        * Predicted label: $l_1 \\dot{=}\\frac{1}{k}\\sum_{i=1}^k\\mathbb{I}(l_{\\mathbf{x}_i}=1)$\n",
    "            * $l_{\\mathbf{y}}=\\begin{cases}1 & l_1 \\geq \\frac{k}{2} \\\\ 2 & \\text{otherwise}\\end{cases}$\n",
    "\n",
    "**Problems**\n",
    "* $|\\mathcal{D}_{\\text{TRAIN}}|=|\\mathcal{D}_{\\text{TEST}}|=N$\n",
    "* $\\forall \\mathbf{y}\\in\\mathcal{D}_{\\text{TEST}}$: $\\mathcal{O}(N)$\n",
    "    * $\\mathbf{x}\\in\\mathcal{D}_{\\text{TRAIN}}$: $\\mathcal{O}(N)$\n",
    "* Select k-th points with lowest distances: $\\mathcal{O}(N)$ if data is stored in an array-like data structure\n",
    " * Overall: $\\propto\\mathcal{O}(N^2)$, maybe inefficient approach!"
   ]
  },
  {
   "cell_type": "code",
   "execution_count": 64,
   "id": "bebfc468",
   "metadata": {},
   "outputs": [],
   "source": [
    "#for y in \n",
    "#data_df['Train'].loc[0].values[:-1]\n",
    "M = len(data_df['Test'])\n",
    "N = len(data_df['Train'])\n",
    "data_df['Test']['classified'] = 0\n",
    "\n",
    "k = 23\n",
    "\n",
    "D = np.zeros([M, N], dtype=float)\n",
    "E = np.zeros([M,k], dtype=int)\n",
    "\n",
    "for i in np.arange(0, M, 1): # data points from test set\n",
    "    for j in np.arange(0, N, 1): # data points from train set\n",
    "        D[i][j] = euclidean(\n",
    "            data_df['Test'].loc[i].values[:-1],\n",
    "            data_df['Train'].loc[j].values[:-1]\n",
    "            )\n",
    "    E[i] = np.argsort(D[i])[:k]\n",
    "    \n",
    "    label1 = np.sum([int(data_df['Train'].loc[E[i][idx]].label == 1) for idx in np.arange(0,k)]) >= (k + 1) / 2\n",
    "    label2 = np.sum([int(data_df['Train'].loc[E[i][idx]].label == 2) for idx in np.arange(0,k)]) >= (k + 1) / 2\n",
    "\n",
    "    if label1:\n",
    "        data_df['Test'].loc[i, 'classified'] = 1\n",
    "    elif label2:\n",
    "        data_df['Test'].loc[i, 'classified'] = 2\n",
    "    else:\n",
    "        data_df['Test'].loc[i, 'classified'] = 0"
   ]
  },
  {
   "cell_type": "code",
   "execution_count": 65,
   "id": "281df9d8",
   "metadata": {},
   "outputs": [
    {
     "name": "stdout",
     "output_type": "stream",
     "text": [
      "Misclassification error: 0.13 (13.0 %)\n"
     ]
    }
   ],
   "source": [
    "# Misclassification error\n",
    "e = len(data_df['Test'][data_df['Test'].label != data_df['Test'].classified]) / M\n",
    "print(f\"Misclassification error: {e} ({e*100} %)\")"
   ]
  },
  {
   "cell_type": "code",
   "execution_count": 66,
   "id": "4fe1886e",
   "metadata": {},
   "outputs": [
    {
     "name": "stdout",
     "output_type": "stream",
     "text": [
      "accuracy: 0.87\n"
     ]
    }
   ],
   "source": [
    "from sklearn.neighbors import KNeighborsClassifier\n",
    "from sklearn.metrics import accuracy_score\n",
    "\n",
    "# instantiate learning model (k = 3)\n",
    "knn = KNeighborsClassifier(n_neighbors=k)\n",
    "\n",
    "# fitting the model\n",
    "knn.fit(data_df['Train'][['x', 'y']].values, data_df['Train'].label.values)\n",
    "\n",
    "# predict the response\n",
    "pred = knn.predict(data_df['Test'][['x', 'y']].values)\n",
    "\n",
    "# evaluate accuracy\n",
    "print(\"accuracy: {}\".format(accuracy_score(data_df['Test'].label.values, pred)))"
   ]
  },
  {
   "cell_type": "markdown",
   "id": "0a7d1cdb",
   "metadata": {},
   "source": []
  }
 ],
 "metadata": {
  "kernelspec": {
   "display_name": "Python 3 (ipykernel)",
   "language": "python",
   "name": "python3"
  },
  "language_info": {
   "codemirror_mode": {
    "name": "ipython",
    "version": 3
   },
   "file_extension": ".py",
   "mimetype": "text/x-python",
   "name": "python",
   "nbconvert_exporter": "python",
   "pygments_lexer": "ipython3",
   "version": "3.11.4"
  }
 },
 "nbformat": 4,
 "nbformat_minor": 5
}
