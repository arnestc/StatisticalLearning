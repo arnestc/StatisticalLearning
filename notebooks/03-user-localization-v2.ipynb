{
 "cells": [
  {
   "cell_type": "markdown",
   "metadata": {},
   "source": [
    "# Computer Lab 1: k-NN classifier\n",
    "\n",
    "## Exercise 3 – User localization from RSSI\n",
    "\n",
    "Consider the following scenario, in which we wish to localize a user employing a non-GPS system  (e.g., in indoor localization). The user holds a transmission device (e.g., a smartphone or other sensor with transmission capabilities). Localization is based on measurements of the Received Signal Strength Indicator (RSSI) from D sensors (base stations) placed in the area in which the localization service is provided. The area is divided into $N_C$ square cells, and localization amounts to identifying the cell in which the user is located.\n",
    "\n",
    "In a **training stage**, the transmission device is placed in the center of each cell and broadcasts a data packet, and RSSI is measured by each sensor. This yields one measurement, corresponding to a vector of length $D$. The process is repeated $M$ times for each cell, and for all $N_C$ cells. The training stage provides a 3-dimensional array of size $N_C \\times D \\times M$.\n",
    "\n",
    "In a **test stage**, the user is located in an unknown cell. The transmission device broadcasts a data packet, and each sensor measures the RSSI and communicates it to a fusion center. The fusion center treats the received RSSI values as a test vector of length $D$. It applies a k-NN classifier, comparing the test vector with all $M \\times N_C$ training vectors available in the training set. For each test vector, the k-NN classifier outputs the probability that each cell contains the user.\n",
    "\n",
    "**Available data**: you are provided with a file (`localization.mat` in `/data/` folder) containing two variables, called traindata and testdata. These variables have the same size, and are 3-dimensional arrays of size $D=7$, $M=5$, and $N_C = 24$.\n",
    "\n",
    "The training data can be seen as labelled data where each cell is a class, and you are given M data vectors for each cell. Regarding the test data, a test vector consists of a single measurement; so each measurement has to be used individually and you can perform up to M tests for each cell.\n",
    "The data correspond to real acquisition experiments performed outdoors nearby Politecnico di Torino, using an STM32L microcontroller with 915 MHz 802.15.4 transceiver.\n",
    "\n",
    "**Task**: your task is to implement a k-NN classifier in Matlab for the classification task described above, and evaluate its performance.\n",
    "\n",
    "**Performance evaluation**: The performance is defined in terms of accuracy in the localization task, and it has to be averaged over all cells. Average accuracy is defined as the posterior probability associated to the cell that the user is actually located in."
   ]
  },
  {
   "cell_type": "code",
   "execution_count": 1,
   "metadata": {},
   "outputs": [],
   "source": [
    "import matplotlib.pyplot as plt\n",
    "import numpy as np\n",
    "import os\n",
    "import random\n",
    "import scipy.io\n",
    "import seaborn as sns\n",
    "from tqdm import tqdm\n",
    "\n",
    "# Plot Seaborn settings\n",
    "sns.set_context(\n",
    "    'talk',\n",
    "    rc = {\n",
    "        'font.size': 12.0,\n",
    "        'axes.labelsize': 10.0,\n",
    "        'axes.titlesize': 10.0,\n",
    "        'xtick.labelsize': 10.0,\n",
    "        'ytick.labelsize': 10.0,\n",
    "        'legend.fontsize': 10.0,\n",
    "        'legend.title_fontsize': 12.0,\n",
    "        'patch.linewidth': 2.0\n",
    "    }\n",
    ")"
   ]
  },
  {
   "cell_type": "markdown",
   "metadata": {},
   "source": [
    "## 0. Load data"
   ]
  },
  {
   "cell_type": "code",
   "execution_count": 2,
   "metadata": {},
   "outputs": [
    {
     "data": {
      "text/plain": [
       "'/'"
      ]
     },
     "execution_count": 2,
     "metadata": {},
     "output_type": "execute_result"
    }
   ],
   "source": [
    "# Check current folder\n",
    "os.getcwd()"
   ]
  },
  {
   "cell_type": "code",
   "execution_count": 3,
   "metadata": {},
   "outputs": [
    {
     "name": "stdout",
     "output_type": "stream",
     "text": [
      "Data ✓\n",
      "Data Keys: dict_keys(['__header__', '__version__', '__globals__', 'cell_coordinates', 'testdata', 'traindata'])\n"
     ]
    }
   ],
   "source": [
    "path = \"/Users/ernestocolacrai/Documents/GitHub/StatisticalLearning/data/\"\n",
    "\n",
    "try:\n",
    "    # Attempt to load the MATLAB data file .mat\n",
    "    data = scipy.io.loadmat(path + \"localization.mat\")\n",
    "\n",
    "    print(\n",
    "        f\"Data ✓\\n\"\n",
    "        f\"Data Keys: {data.keys()}\"\n",
    "    )\n",
    "except:\n",
    "    print(f\"Not found data! ({path})\")"
   ]
  },
  {
   "cell_type": "code",
   "execution_count": 4,
   "metadata": {},
   "outputs": [
    {
     "name": "stdout",
     "output_type": "stream",
     "text": [
      "Train dataset shape: \t(7, 5, 24), type: <class 'numpy.ndarray'>\n",
      "Test dataset shape: \t(7, 5, 24), type: <class 'numpy.ndarray'>\n"
     ]
    }
   ],
   "source": [
    "# Check train and test datasets shapes and types\n",
    "\n",
    "print(\n",
    "    f\"Train dataset shape: \\t{data['traindata'].shape}, type: {type(data['traindata'])}\\n\"\n",
    "    f\"Test dataset shape: \\t{data['testdata'].shape}, type: {type(data['testdata'])}\"\n",
    ")"
   ]
  },
  {
   "cell_type": "code",
   "execution_count": 5,
   "metadata": {},
   "outputs": [],
   "source": [
    "D = 7 # Features number (ROWS)\n",
    "M = 5 # Measures number for each cell (class) (COLUMNS)\n",
    "Nc = 24 # Classes number (cells number) (DEPTH)"
   ]
  },
  {
   "cell_type": "markdown",
   "metadata": {},
   "source": [
    "## 1. Rearrange data"
   ]
  },
  {
   "cell_type": "code",
   "execution_count": 6,
   "metadata": {},
   "outputs": [],
   "source": [
    "def rearrange(dataset:np.ndarray, rows:int, columns:int, depth:int) -> np.ndarray:\n",
    "    \"\"\"\n",
    "    Reshapes a 3D NumPy array into a flattened 2D array.\n",
    "\n",
    "    Parameters:\n",
    "        dataset (numpy.ndarray): A 3D NumPy array representing the input dataset.\n",
    "        rows (int): The number of rows in the input dataset.\n",
    "        columns (int): The number of columns in the input dataset.\n",
    "        depth (int): The number of depth dimensions in the input dataset.\n",
    "\n",
    "    Returns:\n",
    "        (numpy.ndarray): The rearranged dataset, represented as a 2-dimensional NumPy array with dimensions of `(columns * depth, rows + 1)`.\n",
    "    \"\"\"\n",
    "    arranged = np.zeros([columns * depth, rows + 1]) # Initialize an empty 2D NumPy array to store the rearranged data\n",
    "    label = 0 # Multi-class label (1,2,...,24 classes)\n",
    "    for j in range(depth): # Iterate through the depth\n",
    "        for i in range(columns): # Iterate through each column\n",
    "            # Rearrange the data from the input dataset along the depth dimension into a temporary 1D array\n",
    "            rearranged_data = dataset[:, i, j].T\n",
    "            arranged[i + label, :-1] = rearranged_data # Append the rearranged data to the `arranged` array\n",
    "            arranged[i + label, -1] = j + 1 # +1 since it starts from 0\n",
    "        \n",
    "        label += columns # Update the label within the `arranged` array\n",
    "    \n",
    "    # Return the final rearranged array\n",
    "    return arranged"
   ]
  },
  {
   "cell_type": "code",
   "execution_count": 7,
   "metadata": {},
   "outputs": [],
   "source": [
    "# Create the (rearranged) train and test datasets\n",
    "train_data = rearrange(data['traindata'], D, M, Nc).astype(int)\n",
    "test_data = rearrange(data['testdata'], D, M, Nc).astype(int)\n",
    "\n",
    "# Random permutation\n",
    "train_data = np.random.permutation(train_data)\n",
    "test_data = np.random.permutation(test_data)"
   ]
  },
  {
   "cell_type": "code",
   "execution_count": 8,
   "metadata": {},
   "outputs": [
    {
     "name": "stdout",
     "output_type": "stream",
     "text": [
      "Train dataset shape: \t(120, 8), type: <class 'numpy.ndarray'>\n",
      "Test dataset shape: \t(120, 8), type: <class 'numpy.ndarray'>\n"
     ]
    }
   ],
   "source": [
    "# Check the (rearranged) train and test datasets shapes and types\n",
    "\n",
    "print(\n",
    "    f\"Train dataset shape: \\t{train_data.shape}, type: {type(train_data)}\\n\"\n",
    "    f\"Test dataset shape: \\t{test_data.shape}, type: {type(test_data)}\"\n",
    ")"
   ]
  },
  {
   "cell_type": "markdown",
   "metadata": {},
   "source": [
    "## 2. kNN classification"
   ]
  },
  {
   "cell_type": "code",
   "execution_count": 12,
   "metadata": {},
   "outputs": [],
   "source": [
    "def knn(x_train:np.ndarray, x_test:np.ndarray, y_train:np.ndarray, k=3, prog_bar=False, detailed=False):\n",
    "    \"\"\"\n",
    "    Finds for each test data point the k nearest neighboors among train data points.\n",
    "\n",
    "    Parameters:\n",
    "        x_train (numpy.ndarray): A NumPy array representing the train dataset independent variables (x, the features).\n",
    "        x_test (numpy.ndarray): A NumPy array representing the test dataset independent variables (x, the features).\n",
    "        y_train (numpy.ndarray): A NumPy array representing the train dataset dependent variables (y, the classes).\n",
    "        k (int): The number of nearest neighboors to look at. The default value is k=3.\n",
    "        prog_bar (bool): Parameter to show the progress bar for each k-NNs search. The default value is prog_bar=False (not showing any progress bar).\n",
    "        detailed (bool): Parameter to return the detailed inference process (array containing the array of NNs labels and associated probabilities). The default value is detailed=False (returning only the inferred labels with no probability values).\n",
    "\n",
    "    Returns:\n",
    "        (numpy.ndarray): If `detailed=False` the array containing the inferred labels for each test data point; if `detailed=True` the array containing 1) the array of most frequent labels and 2) array of the corresponding probabilities.\n",
    "    \"\"\"\n",
    "    \n",
    "    assert len(x_train) == len(y_train), \"Train set: independent variables (x) and dependent ones (y) must have same lenght!\"\n",
    "    \n",
    "    M = len(x_test) # Number of test data point\n",
    "    N = len(x_train) # Number of tran data point\n",
    "\n",
    "    D = np.zeros([M, N], dtype=int) # Matrix of distances between each test data point with each train data point\n",
    "    NN = np.zeros([M, k], dtype=int) # Matrix of k Nearest-Neighboors for each test data point\n",
    "    \n",
    "    labels = np.full(M, np.nan) # Labels inferred with knn method\n",
    "    detailed_labels = np.full(M, np.ndarray)\n",
    "\n",
    "    for i in tqdm(range(M), colour='green', disable=not(prog_bar)): # For each test data point\n",
    "        for j in range(N): # For each train data point\n",
    "            D[i][j] = np.sqrt(np.sum((x_test[i] - x_train[j]) ** 2)) # Euclidean distance\n",
    "\n",
    "        # Indices of k Nearest-Neighboors\n",
    "        NN[i] = np.argsort(D[i])[:k]\n",
    "\n",
    "        # `vals`: labels (y) of k Nearest-Neighboors among train data points of i-th test data point\n",
    "        # `freqs`: frequency of correspondent vals among the k Nearest-Neighboors amont train data points of i-th test data point\n",
    "        vals, freqs = np.unique(y_train[NN[i]], return_counts=True)\n",
    "        tot = len(y_train[NN[i]])\n",
    "        \n",
    "        l = vals[np.argmax(freqs)]\n",
    "        labels[i] = l\n",
    "       \n",
    "        detailed_labels[i] = np.array([vals, np.round(freqs / tot, 4)])\n",
    "\n",
    "    if detailed:\n",
    "        return detailed_labels\n",
    "    else:\n",
    "        return labels"
   ]
  },
  {
   "cell_type": "markdown",
   "metadata": {},
   "source": [
    "$\\frac{P(\\text{to be at C due to kNN}|y=\\text{C})P(y=\\text{C})}{P(\\text{to be at C due to kNN})}$"
   ]
  },
  {
   "cell_type": "markdown",
   "metadata": {},
   "source": [
    "## 3. Performance evaluation\n",
    "### 3.1 Accuracy for the localization task"
   ]
  },
  {
   "cell_type": "code",
   "execution_count": 14,
   "metadata": {},
   "outputs": [
    {
     "name": "stderr",
     "output_type": "stream",
     "text": [
      "100%|\u001b[32m██████████\u001b[0m| 60/60 [00:04<00:00, 13.16it/s]\n"
     ]
    }
   ],
   "source": [
    "k_max = len(test_data)\n",
    "k_vals = np.arange(1, k_max, 2)\n",
    "\n",
    "set = {\n",
    "    'train': train_data,\n",
    "    'test': test_data\n",
    "}\n",
    "\n",
    "accuracy = {\n",
    "    'train': [],\n",
    "    'test': []\n",
    "}\n",
    "\n",
    "for k in tqdm(k_vals, colour='green'):\n",
    "    for t in set.keys():\n",
    "        labels = knn(x_train=train_data[:, :-1], x_test=set[t][:, :-1], y_train=train_data[:, -1], k=k)\n",
    "        a = np.sum(labels == set[t][:, -1]) / len(set[t])\n",
    "        accuracy[t].append(a)"
   ]
  },
  {
   "cell_type": "code",
   "execution_count": 15,
   "metadata": {},
   "outputs": [
    {
     "data": {
      "image/png": "[encoded data removed]",
      "text/plain": [
       "<Figure size 640x480 with 1 Axes>"
      ]
     },
     "metadata": {},
     "output_type": "display_data"
    }
   ],
   "source": [
    "fig, ax = plt.subplots()\n",
    "\n",
    "for t in set.keys():\n",
    "    sns.lineplot(\n",
    "        x=k_vals, y=accuracy[t],\n",
    "        ax=ax,\n",
    "        marker='.',\n",
    "        lw=0.7,\n",
    "        label=f\"{t} set\"\n",
    "    )\n",
    "    \n",
    "ax.legend(framealpha=0)\n",
    "ax.set_ylabel(\"misclassification rate\")\n",
    "ax.set_xlabel(\"k parameter\")\n",
    "ax.set_title(\"with methods from scratch (not using sklearn)\")\n",
    "\n",
    "sns.despine(right=True)"
   ]
  },
  {
   "cell_type": "code",
   "execution_count": 27,
   "metadata": {},
   "outputs": [
    {
     "data": {
      "text/plain": [
       "array([0.129 , 0.1613, 0.0645, 0.1613, 0.1613, 0.1613, 0.1613])"
      ]
     },
     "execution_count": 27,
     "metadata": {},
     "output_type": "execute_result"
    }
   ],
   "source": []
  },
  {
   "cell_type": "code",
   "execution_count": 140,
   "metadata": {},
   "outputs": [
    {
     "name": "stderr",
     "output_type": "stream",
     "text": [
      "100%|\u001b[32m██████████\u001b[0m| 120/120 [00:00<00:00, 316750.46it/s]\n"
     ]
    }
   ],
   "source": [
    "k = 5\n",
    "\n",
    "detailed_inferred = knn(x_train=train_data[:, :-1], x_test=test_data[:, :-1], y_train=train_data[:, -1], k=k, detailed=True)\n",
    "labels = np.zeros(len(test_data), dtype=int)\n",
    "probs = np.zeros(len(test_data), dtype=float)\n",
    "\n",
    "for i in tqdm(range(len(test_data)), colour='green'):\n",
    "    idx = np.argmax(detailed_inferred[i][1])\n",
    "    l = detailed_inferred[i][0][idx].astype(int)\n",
    "    p = detailed_inferred[i][1][idx]\n",
    "\n",
    "    labels[i] = l\n",
    "    probs[i] = p"
   ]
  },
  {
   "cell_type": "code",
   "execution_count": 141,
   "metadata": {},
   "outputs": [
    {
     "name": "stderr",
     "output_type": "stream",
     "text": [
      "100%|\u001b[32m██████████\u001b[0m| 24/24 [00:00<00:00, 49080.11it/s]\n"
     ]
    },
    {
     "data": {
      "text/plain": [
       "array([0.8       , 0.65      , 0.98      , 1.        , 0.7       ,\n",
       "       0.72      , 0.76666667, 0.6       , 0.95      , 0.        ,\n",
       "       0.96363636, 0.        , 0.73333333, 0.88571429, 1.        ,\n",
       "       0.        , 0.91428571, 1.        , 1.        , 1.        ,\n",
       "       1.        , 1.        , 1.        , 0.        ])"
      ]
     },
     "execution_count": 141,
     "metadata": {},
     "output_type": "execute_result"
    }
   ],
   "source": [
    "n_cells = 24\n",
    "avg_probs = np.zeros(n_cells)\n",
    "\n",
    "for c in tqdm(range(n_cells), colour='green'):\n",
    "    with np.errstate(divide='ignore', invalid='ignore'):\n",
    "        avg_probs[c] = np.mean(probs[labels == c + 1])\n",
    "\n",
    "np.nan_to_num(avg_probs)"
   ]
  },
  {
   "cell_type": "code",
   "execution_count": null,
   "metadata": {},
   "outputs": [],
   "source": []
  }
 ],
 "metadata": {
  "kernelspec": {
   "display_name": "DataScience",
   "language": "python",
   "name": "python3"
  },
  "language_info": {
   "codemirror_mode": {
    "name": "ipython",
    "version": 3
   },
   "file_extension": ".py",
   "mimetype": "text/x-python",
   "name": "python",
   "nbconvert_exporter": "python",
   "pygments_lexer": "ipython3",
   "version": "3.11.4"
  }
 },
 "nbformat": 4,
 "nbformat_minor": 2
}
